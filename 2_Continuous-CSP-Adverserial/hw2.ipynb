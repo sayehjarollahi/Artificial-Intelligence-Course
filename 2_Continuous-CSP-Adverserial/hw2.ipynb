{
 "cells": [
  {
   "cell_type": "markdown",
   "metadata": {},
   "source": [
    "<div align=center>\n",
    "\t\t\n",
    "<p></p>\n",
    "<p></p>\n",
    "<font size=5>\n",
    "In the Name of God\n",
    "<font/>\n",
    "<p></p>\n",
    " <br/>\n",
    "    <br/>\n",
    "    <br/>\n",
    "<font color=#FF7500>\n",
    "Sharif University of Technology - Department of Computer Engineering\n",
    "</font>\n",
    "<p></p>\n",
    "<font color=blue>\n",
    "Artifical Intelligence - Dr. Mohammad Hossein Rohban\n",
    "</font>\n",
    "<br/>\n",
    "<br/>\n",
    "Fall 2021\n",
    "\n",
    "</div>\n",
    "\n",
    "<hr/>\n",
    "\t\t<div align=center>\n",
    "\t\t    <font color=red size=6>\n",
    "\t\t\t    <br />\n",
    "Practical Assignment 2\n",
    "            \t<br/>\n",
    "\t\t\t</font>\n",
    "    <br/>\n",
    "    <br/>\n",
    "<font size=4>\n",
    "\t\t\t<br/><br/>\n",
    "Deadline:  Aban 27th\n",
    "                <br/><b>\n",
    "              Cheating is Strongly Prohibited\n",
    "                </b><br/><br/>\n",
    "                <font color=red>\n",
    "Please run all the cells.\n",
    "     </font>\n",
    "</font>\n",
    "                <br/>\n",
    "    </div>"
   ]
  },
  {
   "cell_type": "markdown",
   "metadata": {},
   "source": [
    "# Personal Data"
   ]
  },
  {
   "cell_type": "code",
   "execution_count": 1,
   "metadata": {
    "collectable": true,
    "execution": {
     "iopub.execute_input": "2021-10-01T16:01:36.762477Z",
     "iopub.status.busy": "2021-10-01T16:01:36.762155Z",
     "iopub.status.idle": "2021-10-01T16:01:36.764025Z",
     "shell.execute_reply": "2021-10-01T16:01:36.763754Z"
    }
   },
   "outputs": [],
   "source": [
    "# Set your student number\n",
    "student_number = 98101339\n",
    "Name = 'Sayeh'\n",
    "Last_Name = 'Jarollahi'"
   ]
  },
  {
   "cell_type": "markdown",
   "metadata": {},
   "source": [
    "# Rules\n",
    "- You are not allowed to add or remove cells. You **must use the provided space to write your code**. If you don't follow this rule, **your Practical Assignment won't be graded**. \n",
    "- There is one cell for your custom functions (if you need any) at the beginning of each question. Please note that this jupyter file might be broken down into 3 jupyter notebooks for easier grading, so you **must write your custom functions in the correct cell**.\n",
    "- By running the cell below, you can see if your jupyter file is accepted or not. This cell will also **generate a python file which you'll have to upload to Quera** (as well as your jupyter file). The python file will later be validated and if the code in both files doesn't match, **your Practical Assignment won't be graded**.\n",
    "- This assignment is due Aban 27th 23:59:59. you can use up to 10 grace days for this assignment and the hard deadline is Azar 7th 23:59:59."
   ]
  },
  {
   "cell_type": "code",
   "execution_count": 124,
   "metadata": {},
   "outputs": [
    {
     "name": "stdout",
     "output_type": "stream",
     "text": [
      "23 33\n",
      "your jupyter file won't be graded. You may have added some cells or edited the metadata.\n"
     ]
    }
   ],
   "source": [
    "# remember to save your jupyter file before running this script\n",
    "from Helper_codes.validator import *\n",
    "\n",
    "python_code = extract_python(\"./questions.ipynb\")\n",
    "with open(f'python_code_{student_number}.py', 'w') as file:\n",
    "    file.write(python_code)"
   ]
  },
  {
   "cell_type": "markdown",
   "metadata": {},
   "source": [
    "# Q1 (30 Points + 5 Extra Points)"
   ]
  },
  {
   "cell_type": "markdown",
   "metadata": {},
   "source": [
    "<font size=4>\n",
    "Author: Reza Amini\n",
    "\t\t\t<br/>\n",
    "                <font color=red>\n",
    "Please run all the cells.\n",
    "     </font>\n",
    "</font>\n",
    "                <br/>\n",
    "    </div>"
   ]
  },
  {
   "cell_type": "markdown",
   "metadata": {},
   "source": [
    "## Libraries"
   ]
  },
  {
   "cell_type": "code",
   "execution_count": 3,
   "metadata": {
    "collectable": true
   },
   "outputs": [],
   "source": [
    "import numpy as np\n",
    "from typing import Tuple\n",
    "from matplotlib import pyplot as plt"
   ]
  },
  {
   "cell_type": "markdown",
   "metadata": {},
   "source": [
    "<div>\n",
    "\t<font size=3>\n",
    "        <hr/>\n",
    "            In this part of the question, we want to implement the functions and draw diagrams and discuss about the convexity of functions\n",
    "           <hr/>\n",
    "    </font>\n",
    "</div>"
   ]
  },
  {
   "cell_type": "markdown",
   "metadata": {},
   "source": [
    "## Functions"
   ]
  },
  {
   "cell_type": "markdown",
   "metadata": {},
   "source": [
    "a)\n",
    "$f_1(x) = \\frac{x^2 cos(\\frac{x}{10}) - x}{100} \\quad $ where $\\quad x \\in [80, 110]$\n",
    "<br/>\n",
    "b)\n",
    "$f_2(x) = \\log (\\sqrt{sin \\frac{x}{20}}) \\quad $ where $\\quad x \\in [1, 60]$\n",
    "<br/>\n",
    "c)\n",
    "$f_3(x) = \\log (\\cos(x) + \\frac{45}{x}) \\quad $ where $\\quad x \\in [1, 45]$"
   ]
  },
  {
   "cell_type": "markdown",
   "metadata": {},
   "source": [
    "<div>\n",
    "    <font size=3>\n",
    "In the first step, implement the functions.\n",
    "     </font>\n",
    "</div>"
   ]
  },
  {
   "cell_type": "code",
   "execution_count": 4,
   "metadata": {
    "collectable": true
   },
   "outputs": [],
   "source": [
    "def f_1(x):\n",
    "    return ((x**2)*np.cos(x/10) - x)/100"
   ]
  },
  {
   "cell_type": "code",
   "execution_count": 5,
   "metadata": {
    "collectable": true
   },
   "outputs": [],
   "source": [
    "def f_2(x):\n",
    "    return np.log(np.sqrt(np.sin(x/20)))"
   ]
  },
  {
   "cell_type": "code",
   "execution_count": 6,
   "metadata": {
    "collectable": true
   },
   "outputs": [],
   "source": [
    "def f_3(x):\n",
    "    return np.log(np.cos(x)+(45/x))"
   ]
  },
  {
   "cell_type": "markdown",
   "metadata": {},
   "source": [
    "<div>\n",
    "    <font size=3>\n",
    "    Now implement a function to plot the mathematical functions\n",
    "     </font>\n",
    "</div>"
   ]
  },
  {
   "cell_type": "code",
   "execution_count": 7,
   "metadata": {
    "collectable": true
   },
   "outputs": [],
   "source": [
    "def draw(func, x_range):\n",
    "    yvals = func(x_range)\n",
    "    plt.plot(x_range, yvals)\n",
    "    "
   ]
  },
  {
   "cell_type": "code",
   "execution_count": 8,
   "metadata": {},
   "outputs": [
    {
     "data": {
      "image/png": "[encoded data removed]",
      "text/plain": [
       "<Figure size 432x288 with 1 Axes>"
      ]
     },
     "metadata": {
      "needs_background": "light"
     },
     "output_type": "display_data"
    }
   ],
   "source": [
    "draw(f_1, np.arange(80, 110 + 1))"
   ]
  },
  {
   "cell_type": "code",
   "execution_count": 9,
   "metadata": {},
   "outputs": [
    {
     "data": {
      "image/png": "[encoded data removed]",
      "text/plain": [
       "<Figure size 432x288 with 1 Axes>"
      ]
     },
     "metadata": {
      "needs_background": "light"
     },
     "output_type": "display_data"
    }
   ],
   "source": [
    "draw(f_2, np.arange(1, 60 + 1))"
   ]
  },
  {
   "cell_type": "code",
   "execution_count": 10,
   "metadata": {},
   "outputs": [
    {
     "data": {
      "image/png": "[encoded data removed]",
      "text/plain": [
       "<Figure size 432x288 with 1 Axes>"
      ]
     },
     "metadata": {
      "needs_background": "light"
     },
     "output_type": "display_data"
    }
   ],
   "source": [
    "draw(f_3, np.arange(1, 45 + 1))"
   ]
  },
  {
   "cell_type": "markdown",
   "metadata": {},
   "source": [
    "<div>\n",
    "    <font size=3>\n",
    "    Discuss the Convexity of each function according to the diagrams\n",
    "     </font>\n",
    "</div>"
   ]
  },
  {
   "cell_type": "markdown",
   "metadata": {},
   "source": [
    "<font color=blue size=3>\n",
    "The first function is convex in the given range.Also it is obvious that the function is not convex in R. According to the diagram, it has only one local minimum that is the global minimum too. <br>\n",
    "the second function is concave in the given range. The function has only one local maximum that is the global maximum too. <br>\n",
    "The third function is not convex nor concave. It has many local minimum and maximums. The second derivation of the function is sometimes positive and sometimes negative, and this is another proof for the answer. \n",
    "</font>"
   ]
  },
  {
   "cell_type": "markdown",
   "metadata": {},
   "source": [
    "<div>\n",
    "    <font size=3>\n",
    "what method do you suggest to find the maximum in the second function?\n",
    "     </font>\n",
    "</div>"
   ]
  },
  {
   "cell_type": "markdown",
   "metadata": {},
   "source": [
    "<font color=blue size = 3>\n",
    "    (3 Points) <br/>\n",
    "The maximum in the second function can be found by using Gradiant Descent Algorithm. Instead of finding the maximum for f_2 function, we can find minimum for -f_2 function. It is obvious that these two values are the same. <br>\n",
    "First we choose a random number between 1 and 60, then we use the gradiant function(f_2') to get closer to the local minimum of -f_2. If learning rate is chosen properly, the answer will converge to local minimum (that is equal to global minimum) in countable steps. <br>\n",
    "The formula for finding the next x value:<br>\n",
    "x_2 = x_1 - a(-f_2)' = x_1 + af_2'\n",
    "</font>"
   ]
  },
  {
   "cell_type": "markdown",
   "metadata": {},
   "source": [
    "<div>\n",
    "    <font size=3>\n",
    "        <hr/>\n",
    "        <ul>\n",
    "            In this part, we want to obtain a minimum of one of the above functions with the gradiant descent algorithm\n",
    "        </ul>  \n",
    "        <hr/>\n",
    "    </font>\n",
    "</div>"
   ]
  },
  {
   "cell_type": "markdown",
   "metadata": {},
   "source": [
    "## Gradiant descent"
   ]
  },
  {
   "cell_type": "markdown",
   "metadata": {},
   "source": [
    "<div>\n",
    "    <font size=3>\n",
    "    Complete gradiant descent function and calculate the minimum of function (a).\n",
    "     </font>\n",
    "</div>"
   ]
  },
  {
   "cell_type": "code",
   "execution_count": 11,
   "metadata": {
    "collectable": true
   },
   "outputs": [],
   "source": [
    "def calculate_derivation(func, value):\n",
    "    h = 1E-11\n",
    "    return (func(value+h)-func(value))/h\n",
    "def gradiant_descent(func, initial_point: float, learning_rate: float, max_iterations: int):\n",
    "    result_point = initial_point\n",
    "    for i in range(max_iterations):\n",
    "        result_point = initial_point - learning_rate* calculate_derivation(func, initial_point)\n",
    "        if initial_point == result_point:\n",
    "            break\n",
    "        initial_point = result_point\n",
    "    return result_point"
   ]
  },
  {
   "cell_type": "code",
   "execution_count": 12,
   "metadata": {},
   "outputs": [
    {
     "data": {
      "text/plain": [
       "96.30114029545621"
      ]
     },
     "execution_count": 12,
     "metadata": {},
     "output_type": "execute_result"
    }
   ],
   "source": [
    "gradiant_descent(\n",
    "    func=f_1, \n",
    "    initial_point=np.random.uniform(80, 110), \n",
    "    learning_rate=0.05, \n",
    "    max_iterations=1000\n",
    ")"
   ]
  },
  {
   "cell_type": "markdown",
   "metadata": {},
   "source": [
    "<div>\n",
    "    <font size=3>\n",
    "In the last part, we want to investigate the effect of the learning rate hyperparameter on the gradiant descent algorithm with a new function     \n",
    "    </font>\n",
    "</div>"
   ]
  },
  {
   "cell_type": "markdown",
   "metadata": {},
   "source": [
    "## Function"
   ]
  },
  {
   "cell_type": "markdown",
   "metadata": {},
   "source": [
    "$f(x_1, x_2) = 2x_1^2 + 3x_2^2 - 4x_1x_2 - 50x + 6y$"
   ]
  },
  {
   "cell_type": "code",
   "execution_count": 13,
   "metadata": {
    "collectable": true
   },
   "outputs": [],
   "source": [
    "def f(x_1, x_2):\n",
    "    return 2*(x_1**2)+3*(x_2**2)-4*x_1*x_2 -50*x_1+6*x_2"
   ]
  },
  {
   "cell_type": "markdown",
   "metadata": {},
   "source": [
    "<div>\n",
    "    <font size=3>\n",
    "Implement gradiant descent function for two-dimensional functions, in such a way that it gives sequence of x_1 and x_2 in the output ()\n",
    "    </font>\n",
    "</div>"
   ]
  },
  {
   "cell_type": "code",
   "execution_count": 14,
   "metadata": {
    "collectable": true
   },
   "outputs": [],
   "source": [
    "\n",
    "def gradiant_descent(func, initial_point: Tuple, learning_rate: float, threshold: float, max_iterations: int):\n",
    "    x_1_sequence = [initial_point[0]]\n",
    "    x_2_sequence = [initial_point[1]]\n",
    "    for i in range(max_iterations):\n",
    "        current_x1 = x_1_sequence[-1]\n",
    "        x_1, x_2 = update_points(func,x_1_sequence[-1], x_2_sequence[-1], learning_rate)\n",
    "        x_1_sequence.append(x_1)\n",
    "        x_2_sequence.append(x_2)\n",
    "        if x_1>threshold or x_2>threshold:\n",
    "            break\n",
    "    return x_1_sequence, x_2_sequence\n",
    "\n",
    "def update_points(func, x_1, x_2, learning_rate):\n",
    "    h = 1E-11\n",
    "    x1_derivation = (func(x_1+h, x_2) - func(x_1, x_2))/h\n",
    "    x2_derivation = (func(x_1, x_2+h) - func(x_1, x_2))/h\n",
    "    return (x_1-learning_rate*x1_derivation, x_2-learning_rate*x2_derivation)"
   ]
  },
  {
   "cell_type": "code",
   "execution_count": 15,
   "metadata": {},
   "outputs": [],
   "source": [
    "def draw_points_sequence(func, x_1_sequence, x_2_sequence):\n",
    "    X1, X2 = np.meshgrid(np.linspace(-100.0, 100.0, 100), np.linspace(-100.0, 100.0, 100))\n",
    "    Y = func(X1, X2)\n",
    "    cp = plt.contour(X1, X2, Y, colors='black', linestyles='dashed', linewidths=1)\n",
    "    plt.clabel(cp, inline=1, fontsize=10)\n",
    "    cp = plt.contourf(X1, X2, Y, )\n",
    "    plt.xlabel('X1')\n",
    "    plt.ylabel('X2')\n",
    "    plt.scatter(x_1_sequence, x_2_sequence, s=10, c=\"y\")\n",
    "    plt.show()"
   ]
  },
  {
   "cell_type": "markdown",
   "metadata": {},
   "source": [
    "<div>\n",
    "    <font size=3>\n",
    "    Run the gradiant descent algorithm for each of the learning rate values and use the above function to draw diagram\n",
    "    </font>\n",
    "</div>"
   ]
  },
  {
   "cell_type": "code",
   "execution_count": 16,
   "metadata": {},
   "outputs": [],
   "source": [
    "initial_point = (-100, 100)\n",
    "learning_rates = [0.01, 0.05, 0.19, 0.4]\n",
    "threshold = 100\n",
    "max_iterations = 1000"
   ]
  },
  {
   "cell_type": "code",
   "execution_count": 17,
   "metadata": {
    "collectable": true
   },
   "outputs": [
    {
     "data": {
      "image/png": "[encoded data removed]",
      "text/plain": [
       "<Figure size 432x288 with 1 Axes>"
      ]
     },
     "metadata": {
      "needs_background": "light"
     },
     "output_type": "display_data"
    }
   ],
   "source": [
    "draw_points_sequence(f, *gradiant_descent(f, initial_point, learning_rates[0], threshold, max_iterations))\n",
    "# learning rate 0.01                                "
   ]
  },
  {
   "cell_type": "code",
   "execution_count": 18,
   "metadata": {
    "collectable": true
   },
   "outputs": [
    {
     "data": {
      "image/png": "[encoded data removed]",
      "text/plain": [
       "<Figure size 432x288 with 1 Axes>"
      ]
     },
     "metadata": {
      "needs_background": "light"
     },
     "output_type": "display_data"
    }
   ],
   "source": [
    "draw_points_sequence(f, *gradiant_descent(f, initial_point, learning_rates[1], threshold, max_iterations))\n",
    "# learning rate 0.05"
   ]
  },
  {
   "cell_type": "code",
   "execution_count": 19,
   "metadata": {
    "collectable": true
   },
   "outputs": [
    {
     "data": {
      "image/png": "[encoded data removed]",
      "text/plain": [
       "<Figure size 432x288 with 1 Axes>"
      ]
     },
     "metadata": {
      "needs_background": "light"
     },
     "output_type": "display_data"
    }
   ],
   "source": [
    "draw_points_sequence(f, *gradiant_descent(f, initial_point, learning_rates[2], threshold, max_iterations))\n",
    "# learning rate 0.19"
   ]
  },
  {
   "cell_type": "code",
   "execution_count": 20,
   "metadata": {
    "collectable": true
   },
   "outputs": [
    {
     "data": {
      "image/png": "[encoded data removed]",
      "text/plain": [
       "<Figure size 432x288 with 1 Axes>"
      ]
     },
     "metadata": {
      "needs_background": "light"
     },
     "output_type": "display_data"
    }
   ],
   "source": [
    "# learning rate 0.4\n",
    "draw_points_sequence(f, *gradiant_descent(f, initial_point, learning_rates[3],threshold, max_iterations))"
   ]
  },
  {
   "cell_type": "markdown",
   "metadata": {},
   "source": [
    "<div>\n",
    "    <font size=3>\n",
    "    explain your result comprehensively from the charts, \n",
    "    </font>\n",
    "</div>"
   ]
  },
  {
   "cell_type": "markdown",
   "metadata": {
    "collectable": true
   },
   "source": [
    "<font color=blue size=3>\n",
    "    As we can see, learning rates are in ascending order.We know that if learning rate is too small, converging to the minimum point is slow and it takes many steps to get to the minimum point. On the other hand, if learning rate is not chosen acurate and it is too big, algorithm will not converge to the minimum and it will get farther from the minimum as the alrgorithm is running.<br>\n",
    "    when learning rate is 0.01, number of steps in the way of converging to the minimum is more than number of steps when learning rate is 0.05 . However finally by using both of the learning rates, the answer will converge to the minimum. \n",
    "    <br> When learning rate is 0.19, at first the distance between two consecutive step is big. but as time passes, this distance gets smaller and finally the anwer will converge to loval minimum. The steps that are taken in this learning rate are much smaller from the two previous times that algorithm was executed. \n",
    "    <br>\n",
    "    According to the last chart, when learning rate is 0.4, the answer doesnt converge to minimum. This learning rate is not acurate for this problem and it is too large. \n",
    "    <br>\n",
    "    Overall, the number of steps that are taken before converging to the minimum for these four learning rates are: \n",
    "        <br> \n",
    "    learning_rate[0]>learning_rate[1]>learning_rate[2]\n",
    "    <br>\n",
    "    the algorithm is more optimal (according to time) when the learning rate is larger (in cases that the result converges to the minimum obviously!)\n",
    "    <br>\n",
    "    <br>\n",
    "    NOTE: I tried different leaning rates with two digits in the fraction and the maximum learning rate that converges to the minimum is 0.21!\n",
    "    \n",
    "</font>"
   ]
  },
  {
   "cell_type": "markdown",
   "metadata": {},
   "source": [
    "# Q2. CSPs (30 Points)"
   ]
  },
  {
   "cell_type": "markdown",
   "metadata": {},
   "source": [
    "<font size=4>\n",
    "     Author: Alireza Tajmirriahi\n",
    "     <br/>\n",
    "     <font color=red>\n",
    "     Please run all the cells.\n",
    "     </font>\n",
    "</font>\n",
    "<br/>"
   ]
  },
  {
   "cell_type": "markdown",
   "metadata": {},
   "source": [
    "As students are preparing for midterm exams and the virtual exam days are gone and forgotten, each department is struggling to select at least one hall out of $N$ halls in the university to hold their exams. But here's the thing:\n",
    "  - Students from each department aren't really fond of sitting next to students from other departments and must be separated (for example CE students and CS students must not share the same hall for exams).\n",
    "  - Each department likes certain halls and won't hold their exams in other halls.\n",
    "  - Sadly, the exit doors in some of the halls are stuck and the hard working staff have provided some routes so that the students from specific halls need to walk through the other hall and exit after the examination. And because they would like to prevent cheating as much as possible, students in such halls cannot be from the same department.\n",
    "Check out the example below to fully understand the situation."
   ]
  },
  {
   "cell_type": "markdown",
   "metadata": {},
   "source": [
    "## Example\n",
    "Look at this picture carefully.<br>\n",
    "<img src=\"Images/CSP_example.png\" width=\"400\"/>\n",
    "  - There are $6$ halls and $3$ departments.\n",
    "  - The halls which the deparments like are indicated (for example, CE exams can be held only at Hall 1, 4 and 6).\n",
    "  - Students from Hall 1 should exit using the doors in Hall 2 (Note: they all exit there and won't continue to Hall 3). In this case, EE students cannot be in both Hall 1 and 2 (But of course, it's okay for them to be in Hall 1 and 3)."
   ]
  },
  {
   "cell_type": "markdown",
   "metadata": {},
   "source": [
    "## Note\n",
    "  - You _must_ implement and use AC-3 algorithm.\n",
    "  - You will _probably_ need to utilize the heuristic algorithms you have learned (e.g. MRV and LCV) or consider nearly tree-structured graphs approach in order to pass all tests in an appropriate time."
   ]
  },
  {
   "cell_type": "markdown",
   "metadata": {},
   "source": [
    "## Input\n",
    "  - The first line consists of $N$ (count of halls) and $M$ (count of departments).\n",
    "  - In the following $M$ lines, the $i$ th line ($1 \\le i \\le M$) is a list of preferred halls for the $i$ th department (separated by space).\n",
    "  - In the next line, $E$, the total number of exit constraints (edges in the previous graph) are given.\n",
    "  - in each of the following $E$ lines, a pair of hall numbers (separated by space) is given (reminder: the direction is important).\n",
    "$$1 \\le N \\le 50$$\n",
    "$$1 \\le M \\le 50$$\n",
    "\n",
    "### Sample Input\n",
    "This sample describes the previous example (CE=1, EE=2, ME=3).\n",
    "```\n",
    "6 3\n",
    "1 4 6\n",
    "1 2 3 5 6\n",
    "3 4 5\n",
    "5\n",
    "1 2\n",
    "2 3\n",
    "3 4\n",
    "3 5\n",
    "3 6\n",
    "```"
   ]
  },
  {
   "cell_type": "markdown",
   "metadata": {},
   "source": [
    "## Output\n",
    "In the only line, print:\n",
    "  - list of one appropriate assignment ordered by hall number (separated by space).\n",
    "  - `NO` if there isn't.\n",
    "\n",
    "### Sample Output\n",
    "One possible solution to the example above is {Hall1=CE, Hall2=EE , Hall3=ME, Hall4=CE, Hall5=EE, Hall6=EE}. So:\n",
    "```\n",
    "1 2 3 1 2 2\n",
    "```\n",
    "In another example, If Hall3 was not an option for ME, then the answer would be:\n",
    "```\n",
    "NO\n",
    "```\n",
    "Because then hall 2 or 3 would be empty."
   ]
  },
  {
   "cell_type": "markdown",
   "metadata": {},
   "source": [
    "## Your code\n",
    "**Note:** It's OK to change the signature for the given functions and the given structure is just a suggestion to help you with the implementation. (you can't remove or add any cells based on the **Rules** section)"
   ]
  },
  {
   "cell_type": "code",
   "execution_count": 21,
   "metadata": {
    "collectable": true
   },
   "outputs": [],
   "source": [
    "def create_queue(var, value, neighbors):\n",
    "    queue = []\n",
    "    if var ==None:\n",
    "        for node, node_neighbors in neighbors:\n",
    "            for neighbor in node_neighbors:\n",
    "                queue.append((neighbor, node))\n",
    "        return queue\n",
    "    for neighbor in neighbors[var]:\n",
    "        queue.append((neighbor, var))\n",
    "    return queue\n",
    "\n",
    "def remove_node_value(var, value, valid_values, removed_values):\n",
    "    if var in removed_values:\n",
    "        removed_values[var].append(value)\n",
    "    else:\n",
    "        removed_values.update({var:[value,]})\n",
    "    valid_values[var].remove(value)\n",
    "        \n",
    "def retract_removals(removed_values:dict, valid_values:dict):\n",
    "    for node, values in removed_values.items():\n",
    "        valid_values[node].extend(values)\n",
    "        \n",
    "    "
   ]
  },
  {
   "cell_type": "code",
   "execution_count": 22,
   "metadata": {
    "collectable": true
   },
   "outputs": [],
   "source": [
    "# valid_values is dict of nodes and unary constraints\n",
    "# neighbors is binary constraints that two nodes cannot have the same value\n",
    "def ac_3(neighbors, valid_values, removed_values={}, var =None, value=None):\n",
    "    queue = create_queue(var, value, neighbors)\n",
    "    while len(queue)!=0:\n",
    "        x,y = queue.pop(0)\n",
    "        if revise(neighbors, removed_values, valid_values, x, y):\n",
    "            if len(valid_values[x]) == 0:\n",
    "                return False\n",
    "            for neighbor in neighbors[x]:\n",
    "                if neighbor != y:\n",
    "                    queue.append((neighbor, x))\n",
    "    return True\n",
    "    \n",
    "    #################################################################\n",
    "    # (Point: 30% of total score obtained by tests)                 #\n",
    "    # This function returns false                                   #\n",
    "    # if an inconsistency is found and true otherwise.              #\n",
    "    # Feel free to also implement a `revise` function in this cell. #\n",
    "    #################################################################\n",
    "\n",
    "\n",
    "def revise(nieghbors, removed_values:dict, valid_values, x_i, x_j):\n",
    "    revised = False\n",
    "    for value in valid_values[x_i]:\n",
    "        value_found = False\n",
    "        for j_value in valid_values[x_j]:\n",
    "            if j_value!=value:\n",
    "                value_found = True\n",
    "                break\n",
    "        if not value_found:\n",
    "            \n",
    "            revised = True\n",
    "            remove_node_value(x_i, value, valid_values, removed_values)\n",
    "    return revised\n",
    "    "
   ]
  },
  {
   "cell_type": "code",
   "execution_count": 23,
   "metadata": {
    "collectable": true
   },
   "outputs": [],
   "source": [
    "def backtrack(assignments, valid_values, neighbors):\n",
    "    if len(assignments) == len(valid_values):\n",
    "        return assignments\n",
    "    current_node = get_minimum_remaining_value(valid_values, neighbors, assignments) \n",
    "    for value in order_values(valid_values, current_node, neighbors):\n",
    "        removed_values = {}\n",
    "        for other_value in valid_values[current_node][:]:\n",
    "            if other_value != value:\n",
    "                remove_node_value(current_node, other_value, valid_values, removed_values)\n",
    "        if ac_3(neighbors, valid_values, removed_values, current_node, value):\n",
    "            assignments.update({current_node:value})\n",
    "            result = backtrack(assignments, valid_values, neighbors)\n",
    "            if result != False:\n",
    "                return result\n",
    "            assignments.pop(current_node)\n",
    "            retract_removals(removed_values, valid_values)\n",
    "    return False\n",
    "        \n",
    "    #################################################################\n",
    "    # (Point: 60% of total score obtained by tests)                 #\n",
    "    # This function returns a solution if there is a complete       #\n",
    "    # assignment or failure if there is not                         #\n",
    "    #################################################################\n",
    "    \n",
    "\n",
    "def backtracking_search(valid_values, neighbors):\n",
    "    result = backtrack({}, valid_values, neighbors)\n",
    "    if not result:\n",
    "        return 'NO'\n",
    "    result_number =[]\n",
    "    for i in range(1,len(result)+1):\n",
    "        result_number.append(result[i])\n",
    "    return ' '.join(str(item) for item in result_number)\n",
    "        \n",
    "\n",
    "def get_minimum_remaining_value(valid_values, neighbors, assignments):\n",
    "    minimum_remaining_value = []\n",
    "    remaining_value_count = float('inf')\n",
    "    for node, values in valid_values.items():\n",
    "        if node in assignments:\n",
    "            continue\n",
    "        if len(values)< remaining_value_count:\n",
    "            minimum_remaining_value = [node,]\n",
    "            remaining_value_count = len(values)\n",
    "        elif len(values) == remaining_value_count:\n",
    "            minimum_remaining_value.append(node)   \n",
    "    if len(minimum_remaining_value)>1:\n",
    "        max_constraint_node = minimum_remaining_value[0]\n",
    "        for node in minimum_remaining_value:\n",
    "            if len(neighbors[node])> len(neighbors[max_constraint_node]):\n",
    "                max_constraint_node = node\n",
    "        return max_constraint_node\n",
    "    return minimum_remaining_value[0]\n",
    "\n",
    "def order_values(valid_values, var, neighbors):\n",
    "    def get_constraint_rule_out_count(value_var):\n",
    "        violence_count = 0\n",
    "        for neighbor in neighbors[var]:\n",
    "            if value_var in valid_values[var]:\n",
    "                violence_count = violence_count + 1\n",
    "        return violence_count\n",
    "    return sorted(valid_values[var],key=get_constraint_rule_out_count)\n",
    "    \n",
    "    \n",
    "    "
   ]
  },
  {
   "cell_type": "code",
   "execution_count": 24,
   "metadata": {},
   "outputs": [
    {
     "name": "stdout",
     "output_type": "stream",
     "text": [
      "Score = 100.0%\n"
     ]
    }
   ],
   "source": [
    "import Helper_codes.question2 as q2\n",
    "import time\n",
    "\n",
    "TIME_LIMIT = 3\n",
    "\n",
    "tests = q2.get_all_tests(prefix='q2_')\n",
    "tests_passed = 0\n",
    "for test in tests:\n",
    "    n, m, m_next_lines, e, next_e_lines = q2.scan_test_input(test)\n",
    "    neighbors = {}\n",
    "    valid_values = {}\n",
    "    for i in range(1,n+1):\n",
    "        neighbors.update({i:[]})\n",
    "        valid_values.update({i:[]})\n",
    "    for i in range(1,len(m_next_lines)+1):\n",
    "        for x in m_next_lines[i-1]:\n",
    "            valid_values[x].append(i)    \n",
    "    for i, j in next_e_lines:\n",
    "        neighbors[i].append(j)\n",
    "        neighbors[j].append(i)\n",
    "    start_time = time.time()\n",
    "    result = backtracking_search(valid_values, neighbors)\n",
    "    total_time = time.time() - start_time\n",
    "    if q2.is_result_valid(test, result) and total_time < TIME_LIMIT:\n",
    "        tests_passed += 1\n",
    "    else:\n",
    "        print(f'test {test} failed. time elapsed= {total_time}')\n",
    "print(f'Score = {tests_passed / len(tests) * 100}%')"
   ]
  },
  {
   "cell_type": "markdown",
   "metadata": {},
   "source": [
    "# Q3 (30+5 Points)"
   ]
  },
  {
   "cell_type": "markdown",
   "metadata": {},
   "source": [
    "<font size=4>\n",
    "Author: Matina mehdizadeh\n",
    "\t\t\t<br/>\n",
    "                <font color=red>\n",
    "Please run all the cells.\n",
    "     </font>\n",
    "</font>\n",
    "                <br/>\n",
    "    </div>"
   ]
  },
  {
   "cell_type": "code",
   "execution_count": 25,
   "metadata": {
    "collectable": true
   },
   "outputs": [],
   "source": []
  },
  {
   "cell_type": "markdown",
   "metadata": {},
   "source": [
    "Consider the given 8*8 board game. There are two players in this game and they try to block each other and limit their valid moves by making walls. Their moves are limited to the 8 cells (or less when they are around the edges) beside them and the walls will start to appear only when a player steps into a random generated yellow cell and the wall will continue to be built until the player reaches the next yellow cell. The players start the game at (0,0) and (7,7) and they keep playing untill one of them loses. There are multiple ways for a player to win the match:\n",
    "- If a player steps into a wall or out of the board, the player loses the match and \"invalid move\" massege will appear on terminal.\n",
    "- If the players reach the maximum moves the game finishes and the winner would be chosen based on the maximum valid move they have left plus the number of walls they have made and \"No more moves\" massege will appear on terminal.\n",
    "- If the getMove() function does not return any value after 2 seconds, the player loses the match and \"Time limit exceeded\" massege will appear on terminal.\n",
    "<img src=\"Images/Q3.png\" style=\"float: center; margin-left: 250px; margin-top: 50px; width:500px;height:400px;\"/>"
   ]
  },
  {
   "cell_type": "markdown",
   "metadata": {},
   "source": [
    "In this question, the codes for starting the game were provided for you in Helper-codes folder. You are expected to implement the MinimaxPlayer class (which inherit the Player class) with alpha-beta pruning. (25 points)"
   ]
  },
  {
   "cell_type": "markdown",
   "metadata": {},
   "source": [
    "## Libraries"
   ]
  },
  {
   "cell_type": "code",
   "execution_count": 71,
   "metadata": {
    "execution": {
     "iopub.execute_input": "2021-10-01T16:01:11.557956Z",
     "iopub.status.busy": "2021-10-01T16:01:11.556447Z",
     "iopub.status.idle": "2021-10-01T16:01:11.747409Z",
     "shell.execute_reply": "2021-10-01T16:01:11.746914Z"
    }
   },
   "outputs": [
    {
     "name": "stdout",
     "output_type": "stream",
     "text": [
      "Requirement already satisfied: tk in d:\\anaconda\\lib\\site-packages (0.1.0)\n",
      "Requirement already satisfied: matplotlib in d:\\anaconda\\lib\\site-packages (3.3.4)\n",
      "Requirement already satisfied: pillow>=6.2.0 in d:\\anaconda\\lib\\site-packages (from matplotlib) (8.2.0)\n",
      "Requirement already satisfied: python-dateutil>=2.1 in d:\\anaconda\\lib\\site-packages (from matplotlib) (2.8.1)\n",
      "Requirement already satisfied: cycler>=0.10 in d:\\anaconda\\lib\\site-packages (from matplotlib) (0.10.0)\n",
      "Requirement already satisfied: pyparsing!=2.0.4,!=2.1.2,!=2.1.6,>=2.0.3 in d:\\anaconda\\lib\\site-packages (from matplotlib) (2.4.7)\n",
      "Requirement already satisfied: kiwisolver>=1.0.1 in d:\\anaconda\\lib\\site-packages (from matplotlib) (1.3.1)\n",
      "Requirement already satisfied: numpy>=1.15 in d:\\anaconda\\lib\\site-packages (from matplotlib) (1.20.1)\n",
      "Requirement already satisfied: six in d:\\anaconda\\lib\\site-packages (from cycler>=0.10->matplotlib) (1.15.0)\n"
     ]
    }
   ],
   "source": [
    "!pip install tk\n",
    "!pip install matplotlib\n",
    "import numpy as np\n",
    "import random\n",
    "from Helper_codes.graphics import *\n",
    "from Helper_codes.question3 import Cell\n",
    "from Helper_codes.question3 import IntPair\n",
    "from Helper_codes.question3 import Player\n",
    "from Helper_codes.question3 import NaivePlayer\n",
    "from Helper_codes.question3 import Board\n",
    "from Helper_codes.question3 import Game\n",
    "import time\n",
    "import matplotlib as plt"
   ]
  },
  {
   "cell_type": "markdown",
   "metadata": {},
   "source": [
    "**The following implementations are suggestional and you may change them if you desire.\n",
    "The move_ functions' purpose is to find out if a player, has a valid move on that direction.\n",
    "the purpose of checkRow and CheckCole are to check if the player's x and y is still in the board.**\n"
   ]
  },
  {
   "cell_type": "code",
   "execution_count": 120,
   "metadata": {
    "collectable": true
   },
   "outputs": [],
   "source": [
    "import random\n",
    "class MinimaxPlayer(Player):\n",
    "    \n",
    "    def __init__(self, col, x, y, depth):\n",
    "        super().__init__(col, x, y)\n",
    "        self.depth = depth\n",
    "\n",
    "    def can_move(self, x, y, board, player):\n",
    "        other_player = [i for i in board.players if x!=player][0]\n",
    "        if x>=8 or y>=8:\n",
    "            return False\n",
    "        elif x<0 or y<0:\n",
    "            return False\n",
    "        if board.getCell(x,y).getColor() != 0 :\n",
    "            return False\n",
    "        elif x==other_player.getX() and y==other_player.getY():\n",
    "            return False\n",
    "        elif x==player.getX() and y==player.getY():\n",
    "            return False\n",
    "        return True\n",
    "        \n",
    "    def canMove(self, x,y, board):\n",
    "        return len(self.get_probable_moves(board, self))!=0\n",
    "        \n",
    "    \n",
    "    def get_probable_moves(self, board, player ):\n",
    "        initial_x = player.getX()\n",
    "        initial_y = player.getY()\n",
    "        movable_locations = []\n",
    "        for i in range(-1,2):\n",
    "            for j in range(-1,2):\n",
    "                x = initial_x-i\n",
    "                y = initial_y-j\n",
    "                if self.can_move(x, y, board, player):\n",
    "                    movable_locations.append(IntPair(x, y))\n",
    "        random.shuffle(movable_locations)\n",
    "        return movable_locations        \n",
    "\n",
    "    def minValue(self, board, alpha, beta, depth=0):\n",
    "        the_player = [x for x in board.players if x!=self][0]\n",
    "        optimal_choice = IntPair(0,0)\n",
    "        if depth==self.depth or board.getNumberOfMoves()==80 :\n",
    "            return board.getScore(self.getCol()) - board.getScore(the_player.getCol()), None\n",
    "        elif len(self.get_probable_moves(board, the_player)) ==0:\n",
    "            return -100, None\n",
    "        v = float('inf')\n",
    "        for a in self.get_probable_moves(board, the_player):\n",
    "            copy_board = Board(board)\n",
    "            board.move(a, the_player.getCol())\n",
    "            v = min(v, self.maxValue(board,alpha, beta, depth+1 )[0])\n",
    "            board = copy_board\n",
    "            if v<= beta:\n",
    "                return v, a\n",
    "            beta = min(beta, v)\n",
    "        return v, a\n",
    "    \n",
    "    def maxValue(self, board, alpha, beta, depth=0):\n",
    "        other_player = [x for x in board.players if x!=self][0]\n",
    "        if depth==self.depth or board.getNumberOfMoves()==80 :\n",
    "            return (board.getScore(self.getCol()) - board.getScore(other_player.getCol())), IntPair(self.getX(),self.getY())\n",
    "        elif len(self.get_probable_moves(board, self)) ==0:\n",
    "            return -100, IntPair(0,0)\n",
    "        v = float('-inf')\n",
    "        for a in self.get_probable_moves(board, self):\n",
    "            optimal_choice = a\n",
    "            copy_board = Board(board)\n",
    "            board.move(a, self.getCol())\n",
    "            v = max(v, self.minValue(board,alpha, beta, depth+1 )[0])\n",
    "            board = copy_board\n",
    "            if v>= beta:\n",
    "                return v, a\n",
    "            alpha = max(alpha, v)\n",
    "        return v, a\n",
    "    \n",
    "    def getMove(self, board):\n",
    "        ################################################################\n",
    "        # implement a function that returns an Inpair for player's-    #\n",
    "        # next x and y. Implementation of x and y should be in a way-  #\n",
    "        # that let the players choose any of the 8 cells around them   #\n",
    "        # (unlike the NaivePlayer which can go only in 4 direction)    #                                          \n",
    "        # pay attention that this IntPair should be calculated using   #\n",
    "        # alpha beta pruning Otherwise, you will not receive the full  #\n",
    "        # score (15 points)                                            #\n",
    "        ################################################################\n",
    "        alpha = float('-inf')\n",
    "        beta = float('inf')\n",
    "        next = IntPair(-20, -20)\n",
    "\n",
    "        if (board.getNumberOfMoves() == board.maxNumberOfMoves):\n",
    "            return IntPair(-20, -20)\n",
    "        \n",
    "        if not (self.canMove(board.getPlayerX(self.getCol()), board.getPlayerY(self.getCol()), board)):\n",
    "            return IntPair(-10, -10)\n",
    "        \n",
    "        v, next = self.maxValue(board, alpha , beta, 0)\n",
    "        return next\n",
    "        \n",
    "        "
   ]
  },
  {
   "cell_type": "markdown",
   "metadata": {},
   "source": [
    "If you run the game once (numberOfMatches = 1) the game window will open and you would be able to observe the players behaviour and the reason why the winner has won, will appear on terminal.\n",
    "If you run the game for more than one match (numberOfMatches > 1) the graphic window and the comments on terminal would not show up. This is for the time you finish implementing the MinimaxPlayer class and you want to verify the functionality of your code; also, for next part of the question, in which you should plot the scores for the first player."
   ]
  },
  {
   "cell_type": "code",
   "execution_count": 98,
   "metadata": {
    "collectable": true,
    "scrolled": false
   },
   "outputs": [
    {
     "name": "stdout",
     "output_type": "stream",
     "text": [
      "Player 1 has made an invalid move\n",
      "Player 2 has won\n",
      "\n",
      "0.0\n"
     ]
    }
   ],
   "source": [
    "################################################################\n",
    "# p1 must be replace with minimaxPlayer                        #\n",
    "################################################################\n",
    "p1 = MinimaxPlayer(1, 0, 0, 4)\n",
    "p2 = NaivePlayer(2, 7, 7)\n",
    "g = Game(p1, p2)\n",
    "numberOfMatches = 1\n",
    "score1, score2 = g.start(numberOfMatches)\n",
    "print(score1/numberOfMatches)"
   ]
  },
  {
   "cell_type": "markdown",
   "metadata": {},
   "source": [
    "In this section, you need to run the game code multiple times and each time with the same numberOfMatches (this should be a large number so your answer be more reliable) once for Naive player and once for Minimax. compare these two plots in terms of shape and the main elements of the distribution. (5 points)\n",
    "<bold>\n",
    "    pay attention to the comment of second cell please!\n",
    "</bold>"
   ]
  },
  {
   "cell_type": "code",
   "execution_count": 107,
   "metadata": {
    "collectable": true
   },
   "outputs": [
    {
     "data": {
      "image/png": "[encoded data removed]",
      "text/plain": [
       "<Figure size 432x288 with 1 Axes>"
      ]
     },
     "metadata": {
      "needs_background": "light"
     },
     "output_type": "display_data"
    }
   ],
   "source": [
    "result = []\n",
    "for i in range(5):\n",
    "    p1 = NaivePlayer(1, 0, 0)\n",
    "    p2 = NaivePlayer(2, 7, 7)\n",
    "    g = Game(p1, p2)\n",
    "    numberOfMatches = 5\n",
    "    score1, score2 = g.start(numberOfMatches)\n",
    "    result.append(score1)\n",
    "\n",
    "plt.pyplot.plot(range(1,6),result,linestyle='solid',color='blue')\n",
    "plt.pyplot.show()    \n"
   ]
  },
  {
   "cell_type": "code",
   "execution_count": 111,
   "metadata": {
    "collectable": true
   },
   "outputs": [
    {
     "data": {
      "image/png": "[encoded data removed]",
      "text/plain": [
       "<Figure size 432x288 with 1 Axes>"
      ]
     },
     "metadata": {
      "needs_background": "light"
     },
     "output_type": "display_data"
    }
   ],
   "source": [
    "result = []\n",
    "for i in range(5):\n",
    "    p1 = MinimaxPlayer(1, 0, 0, 3)\n",
    "    p2 = MinimaxPlayer(2, 7, 7, 3)\n",
    "    g = Game(p1, p2)\n",
    "    numberOfMatches = 5\n",
    "    score1, score2 = g.start(numberOfMatches)\n",
    "    result.append(score1)\n",
    "\n",
    "plt.pyplot.plot(range(1,6),result,linestyle='solid',color='blue')\n",
    "plt.pyplot.show()\n",
    "\n",
    "'''\n",
    "according to both plots: the first one that one player is naive, minimax player wins more than the second one that both \n",
    "players are minimax. when both players are minimax, they both play rational. \n",
    "the average number of wins in first plot is 2 and in the second plot is 1.6. As we said before, number of wins in the first \n",
    "plot is more than the second plot(in average)\n",
    "\n",
    "'''"
   ]
  },
  {
   "cell_type": "markdown",
   "metadata": {},
   "source": [
    "In this section you should change the game settings for different depths and plot the number of wins in fix number of matches for these depths. Also, you should let two minimax players with diffrent depths play againts eachother and report your observation.(5 points)"
   ]
  },
  {
   "cell_type": "code",
   "execution_count": 122,
   "metadata": {
    "collectable": true
   },
   "outputs": [
    {
     "data": {
      "image/png": "[encoded data removed]",
      "text/plain": [
       "<Figure size 432x288 with 1 Axes>"
      ]
     },
     "metadata": {
      "needs_background": "light"
     },
     "output_type": "display_data"
    }
   ],
   "source": [
    "result = []\n",
    "for i in range(1,6):\n",
    "    p1 = MinimaxPlayer(1, 0, 0, i)\n",
    "    p2 = NaivePlayer(2, 7, 7)\n",
    "    g = Game(p1, p2)\n",
    "    numberOfMatches = 3\n",
    "    score1, score2 = g.start(numberOfMatches)\n",
    "    result.append(score1)\n",
    "\n",
    "plt.pyplot.plot(range(1,6),result,linestyle='solid',color='blue')\n",
    "plt.pyplot.show()\n",
    "\n",
    "\"\"\"\n",
    "as the depth grows, we can see that minimax looses more. it is because greater depth means larger amount of time to make \n",
    "decision. so when depth grows, it is obvious that naive player wins. \n",
    "\"\"\""
   ]
  },
  {
   "cell_type": "code",
   "execution_count": 121,
   "metadata": {
    "collectable": true
   },
   "outputs": [
    {
     "name": "stdout",
     "output_type": "stream",
     "text": [
      "Player 2 has exceeded the time limit\n",
      "Player 1 has won\n",
      "\n",
      "1 0\n"
     ]
    },
    {
     "data": {
      "text/plain": [
       "'\\nthe second player that its depth is gretar, moves slower that the first player. i played the game for 3 rounds and in 2 rounds\\nthe second player won. The reason is that greater depth means wiser decisions. the second player, predicts the game in \\ngreater steps than the first player. so it makes better choices. \\nalso the game takes more time than previous games \\n'"
      ]
     },
     "execution_count": 121,
     "metadata": {},
     "output_type": "execute_result"
    }
   ],
   "source": [
    "p1 = MinimaxPlayer(1, 0, 0, 2)\n",
    "p2 = MinimaxPlayer(2, 7, 7, 5)\n",
    "g = Game(p1, p2)\n",
    "numberOfMatches = 1\n",
    "score1, score2 = g.start(numberOfMatches)\n",
    "print(score1, score2)\n",
    "\n",
    "\"\"\"\n",
    "the second player that its depth is gretar, moves slower that the first player. i played the game for 3 rounds and in 2 rounds\n",
    "the first player won. The reason is that greater depth means wiser decisions.but timing is important here. if the player\n",
    "searches in deeper depths, it will take more time and meanwhile, the minimax with lower depth will gain more squares of the \n",
    "game.\n",
    "\n",
    "if the amount of diffrence between depths is large, the minimax player that searches with the larger depth,\n",
    "will have bigger posiility to loose, because it takes more time for it to make its decision.\n",
    "(as you can see in the result of this game)\n",
    "\"\"\""
   ]
  }
 ],
 "metadata": {
  "interpreter": {
   "hash": "cc5f70855ac006f3de45a3cc3b9e7d8d53845e50458809cb162b0174266dec97"
  },
  "kernelspec": {
   "display_name": "Python 3",
   "language": "python",
   "name": "python3"
  },
  "language_info": {
   "codemirror_mode": {
    "name": "ipython",
    "version": 3
   },
   "file_extension": ".py",
   "mimetype": "text/x-python",
   "name": "python",
   "nbconvert_exporter": "python",
   "pygments_lexer": "ipython3",
   "version": "3.8.8"
  }
 },
 "nbformat": 4,
 "nbformat_minor": 4
}
