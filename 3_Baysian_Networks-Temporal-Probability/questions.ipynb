{
 "cells": [
  {
   "cell_type": "markdown",
   "metadata": {},
   "source": [
    "<div align=center>\n",
    "\t\t\n",
    "<p></p>\n",
    "<p></p>\n",
    "<font size=5>\n",
    "In the Name of God\n",
    "<font/>\n",
    "<p></p>\n",
    " <br/>\n",
    "    <br/>\n",
    "    <br/>\n",
    "<font color=#FF7500>\n",
    "Sharif University of Technology - Departmenet of Computer Engineering\n",
    "</font>\n",
    "<p></p>\n",
    "<font color=blue>\n",
    "Artifical Intelligence - Dr. Mohammad Hossein Rohban\n",
    "</font>\n",
    "<br/>\n",
    "<br/>\n",
    "Fall 2021\n",
    "\n",
    "</div>\n",
    "\n",
    "<hr/>\n",
    "\t\t<div align=center>\n",
    "\t\t    <font color=red size=6>\n",
    "\t\t\t    <br />\n",
    "Practical Assignment 3\n",
    "            \t<br/>\n",
    "\t\t\t</font>\n",
    "    <br/>\n",
    "    <br/>\n",
    "<font size=4>\n",
    "\t\t\t<br/><br/>\n",
    "Deadline: Azar 18th\n",
    "                <br/><b>\n",
    "              Cheating is Strongly Prohibited\n",
    "                </b><br/><br/>\n",
    "                <font color=red>\n",
    "Please run all the cells.\n",
    "     </font>\n",
    "</font>\n",
    "                <br/>\n",
    "    </div>"
   ]
  },
  {
   "cell_type": "markdown",
   "metadata": {},
   "source": [
    "# Personal Data"
   ]
  },
  {
   "cell_type": "code",
   "execution_count": 162,
   "metadata": {
    "collectable": true,
    "execution": {
     "iopub.execute_input": "2021-10-01T16:01:36.762477Z",
     "iopub.status.busy": "2021-10-01T16:01:36.762155Z",
     "iopub.status.idle": "2021-10-01T16:01:36.764025Z",
     "shell.execute_reply": "2021-10-01T16:01:36.763754Z"
    }
   },
   "outputs": [],
   "source": [
    "# Set your student number\n",
    "student_number = 98101339\n",
    "Name = 'Sayeh'\n",
    "Last_Name = 'Jarollahi'"
   ]
  },
  {
   "cell_type": "markdown",
   "metadata": {},
   "source": [
    "# Rules\n",
    "- You are not allowed to add or remove cells. You **must use the provided space to write your code**. If you don't follow this rule, **your Practical Assignment won't be graded**. \n",
    "- There is one cell for your custom functions (if you need any) at the beginning of each question. Please note that this jupyter file might be broken down into 3 or 4 jupyter notebooks for easier grading, so you **must write your custom functions in the correct cell**.\n",
    "- By running the cell below, you can see if your jupyter file is accepted or not. This cell will also **generate a python file which you'll have to upload to Quera** (as well as your jupyter file). The python file will later be validated and if the code in both files doesn't match, **your Practical Assignment won't be graded**.\n",
    "- This assignment is due Azar 18th 23:59:59. you can use up to 10 grace days for this assignment and the hard deadline is Azar 28th 23:59:59."
   ]
  },
  {
   "cell_type": "code",
   "execution_count": 163,
   "metadata": {},
   "outputs": [
    {
     "name": "stdout",
     "output_type": "stream",
     "text": [
      "your jupyter file will be graded\n"
     ]
    }
   ],
   "source": [
    "# remember to save your jupyter file before running this script\n",
    "from Helper_codes.validator import *\n",
    "\n",
    "python_code = extract_python(\"./questions.ipynb\")\n",
    "with open(f'python_code_{student_number}.py', 'w') as file:\n",
    "    file.write(python_code)"
   ]
  },
  {
   "cell_type": "markdown",
   "metadata": {},
   "source": [
    "# Q1 (30+5 Points)"
   ]
  },
  {
   "cell_type": "markdown",
   "metadata": {},
   "source": [
    "<font size=4>\n",
    "Author: Pooya Moini\n",
    "\t\t\t<br/>\n",
    "                <font color=red>\n",
    "Please run all the cells.\n",
    "     </font>\n",
    "</font>\n",
    "                <br/>\n",
    "    </div>"
   ]
  },
  {
   "cell_type": "markdown",
   "metadata": {
    "collectable": true
   },
   "source": [
    "# Bayesian Networks"
   ]
  },
  {
   "cell_type": "markdown",
   "metadata": {},
   "source": [
    "In this programming assignment, we will investigate the structure of the binarized MNIST dataset of handwritten digits using Bayesian networks. The dataset contains images of handwritten digits with dimensions $28 \\times 28$ (784) pixels. Consider the Bayesian network in Figure 1 . The network contains two layers of variables. The variables in the bottom layer, $X_{1: 784}$ denote the pixel values of the flattened image. The variables in the top layer, $Z_{1}$ and $Z_{2}$, are referred to as latent variables, because the value of these variables will not be explicitly provided by the data and will have to be inferred."
   ]
  },
  {
   "cell_type": "markdown",
   "metadata": {},
   "source": [
    "![Figure1](./Images/fig1.png)"
   ]
  },
  {
   "cell_type": "markdown",
   "metadata": {},
   "source": [
    "The Bayesian network specifies a joint probability distribution over binary images and latent variables $p\\left(Z_{1}, Z_{2}, X_{1: 784}\\right)$. The model is trained so that the marginal probability of the manifest variables, $p\\left(x_{1: 784}\\right)=\\sum_{z_{1}, z_{2}} p\\left(z_{1}, z_{2}, x_{1: 784}\\right)$ is high on images that look like digits, and low for other images. \n",
    "\n",
    "For this programming assignment, we provide a pretrained model trained_mnist_model. The starter code loads this model and provides functions to directly access the conditional probability tables. Further, we simplify the problem by discretizing the latent and manifest variables such that $\\operatorname{Val}\\left(Z_{1}\\right)=\\operatorname{Val}\\left(Z_{2}\\right)=\\{-3,-2.75, \\ldots, 2.75,3\\}$ and $\\operatorname{Val}\\left(X_{j}\\right)=\\{0,1\\}$, i.e., the image is binary."
   ]
  },
  {
   "cell_type": "markdown",
   "metadata": {},
   "source": [
    "### 1. \n",
    "How many values can the random vector $X_{1: 784}$ take, i.e., how many different $28 \\times 28$ binary images are there?\n",
    "\n",
    "How many parameters would you need to specify an arbitrary probability distribution over all possible $28 \\times 28$ binary images? (5 points)"
   ]
  },
  {
   "cell_type": "code",
   "execution_count": null,
   "metadata": {
    "collectable": true
   },
   "outputs": [],
   "source": [
    "'''\n",
    "each X_i can take 2 different values, so the random vector X1:784 can take 2^784 different values and there are 2^784\n",
    "binary images\n",
    "we need  (2^784)-1 X_i parameters to be able to specify an arbitrary probability distribution over all images. \n",
    "we know that the sum over probability of all images is one, so by having sum over (2^784)-1 images, the probability of the\n",
    "last image is 1 - sigma(P(Image_i))\n",
    "'''"
   ]
  },
  {
   "cell_type": "code",
   "execution_count": null,
   "metadata": {
    "collectable": true
   },
   "outputs": [],
   "source": [
    "# extra space"
   ]
  },
  {
   "cell_type": "markdown",
   "metadata": {},
   "source": [
    "Run below codes to load the network and its functions."
   ]
  },
  {
   "cell_type": "code",
   "execution_count": 75,
   "metadata": {},
   "outputs": [],
   "source": [
    "import numpy as np\n",
    "import matplotlib.pyplot as plt\n",
    "import pickle as pkl\n",
    "from scipy.io import loadmat\n",
    "\n",
    "\n",
    "NUM_PIXELS = 28*28"
   ]
  },
  {
   "cell_type": "code",
   "execution_count": 76,
   "metadata": {},
   "outputs": [],
   "source": [
    "def get_p_z1(z1_val):\n",
    "    '''\n",
    "    Helper. Computes the prior probability for variable z1 to take value z1_val.\n",
    "    P(Z1=z1_val)\n",
    "    '''\n",
    "    return bayes_net['prior_z1'][z1_val]\n",
    "\n",
    "\n",
    "def get_p_z2(z2_val):\n",
    "    '''\n",
    "    Helper. Computes the prior probability for variable z2 to take value z2_val.\n",
    "    P(Z2=z2_val)\n",
    "    '''\n",
    "\n",
    "    return bayes_net['prior_z2'][z2_val]\n"
   ]
  },
  {
   "cell_type": "code",
   "execution_count": 77,
   "metadata": {},
   "outputs": [],
   "source": [
    "def get_p_xk_cond_z1_z2(z1_val, z2_val, k):\n",
    "    '''\n",
    "    Helper. Computes the conditional probability that variable xk assumes value 1\n",
    "    given that z1 assumes value z1_val and z2 assumes value z2_val\n",
    "    P(Xk = 1 | Z1=z1_val , Z2=z2_val)\n",
    "    '''\n",
    "\n",
    "    return bayes_net['cond_likelihood'][(z1_val, z2_val)][0, k-1]\n",
    "\n",
    "\n",
    "def get_p_x_cond_z1_z2(z1_val, z2_val):\n",
    "    '''\n",
    "    Computes the conditional probability of the entire vector x for x = 1,\n",
    "    given that z1 assumes value z1_val and z2 assumes value z2_val\n",
    "    '''\n",
    "    pk = np.zeros(NUM_PIXELS)\n",
    "    for i in range(NUM_PIXELS):\n",
    "        pk[i] = get_p_xk_cond_z1_z2(z1_val, z2_val, i+1)\n",
    "    return pk\n"
   ]
  },
  {
   "cell_type": "code",
   "execution_count": 78,
   "metadata": {},
   "outputs": [],
   "source": [
    "def load_model(model_file):\n",
    "    '''\n",
    "    Loads a default Bayesian network with latent variables (in this case, a\n",
    "    variational autoencoder)\n",
    "    '''\n",
    "\n",
    "    with open('Helper_codes/trained_mnist_model', 'rb') as infile:\n",
    "        cpts = pkl.load(infile, encoding='bytes')\n",
    "\n",
    "    model = {}\n",
    "    model['prior_z1'] = cpts[0]\n",
    "    model['prior_z2'] = cpts[1]\n",
    "    model['cond_likelihood'] = cpts[2]\n",
    "\n",
    "    return model"
   ]
  },
  {
   "cell_type": "code",
   "execution_count": 79,
   "metadata": {},
   "outputs": [],
   "source": [
    "global disc_z1, disc_z2\n",
    "n_disc_z = 25\n",
    "disc_z1 = np.linspace(-3, 3, n_disc_z)\n",
    "disc_z2 = np.linspace(-3, 3, n_disc_z)\n",
    "\n",
    "global bayes_net\n",
    "bayes_net = load_model('Helper_codes/trained_mnist_model')"
   ]
  },
  {
   "cell_type": "markdown",
   "metadata": {},
   "source": [
    "### 2.\n",
    "Produce 5 samples from the joint probability distribution $\\left(z_{1}, z_{2}, x_{1: 784}\\right) \\sim p\\left(Z_{1}, Z_{2}, X_{1: 784}\\right)$, and plot the corresponding images (values of the pixel variables). (7 points)"
   ]
  },
  {
   "cell_type": "code",
   "execution_count": 80,
   "metadata": {
    "collectable": true
   },
   "outputs": [
    {
     "data": {
      "image/png": "[encoded data removed]",
      "text/plain": [
       "<Figure size 432x288 with 1 Axes>"
      ]
     },
     "metadata": {
      "needs_background": "light"
     },
     "output_type": "display_data"
    },
    {
     "data": {
      "image/png": "[encoded data removed]",
      "text/plain": [
       "<Figure size 432x288 with 1 Axes>"
      ]
     },
     "metadata": {
      "needs_background": "light"
     },
     "output_type": "display_data"
    },
    {
     "data": {
      "image/png": "[encoded data removed]",
      "text/plain": [
       "<Figure size 432x288 with 1 Axes>"
      ]
     },
     "metadata": {
      "needs_background": "light"
     },
     "output_type": "display_data"
    },
    {
     "data": {
      "image/png": "[encoded data removed]",
      "text/plain": [
       "<Figure size 432x288 with 1 Axes>"
      ]
     },
     "metadata": {
      "needs_background": "light"
     },
     "output_type": "display_data"
    },
    {
     "data": {
      "image/png": "[encoded data removed]",
      "text/plain": [
       "<Figure size 432x288 with 1 Axes>"
      ]
     },
     "metadata": {
      "needs_background": "light"
     },
     "output_type": "display_data"
    }
   ],
   "source": [
    "def create_images():\n",
    "    z1_vals, z1_probs = [], []\n",
    "    z2_vals, z2_probs = [], []\n",
    "    for val, prob in bayes_net['prior_z1'].items():\n",
    "        z1_vals.append(val)\n",
    "        z1_probs.append(prob)\n",
    "    for val, prob in bayes_net['prior_z2'].items():\n",
    "        z2_vals.append(val)\n",
    "        z2_probs.append(prob)\n",
    "    for i in range(5):\n",
    "        sample = get_bayesian_sample(z1_vals, z1_probs, z2_vals, z2_probs)\n",
    "        convert_sample_to_image(sample)\n",
    "        \n",
    "\n",
    "def get_bayesian_sample(z1_vals, z1_probs, z2_vals, z2_probs):\n",
    "    z1 = np.random.choice(z1_vals, 1, z1_probs)[0]\n",
    "    z2 = np.random.choice(z2_vals, 1, z2_probs) [0]\n",
    "    image = []\n",
    "    for i in range(28*28):\n",
    "        X_i_prob_condition_z1_z2 = get_p_xk_cond_z1_z2(z1, z2, i+1)\n",
    "        value_X_i = np.random.choice([0, 1],p= [1 - X_i_prob_condition_z1_z2, X_i_prob_condition_z1_z2])\n",
    "        image.append(value_X_i)\n",
    "    return np.array(image)\n",
    "    \n",
    "def convert_sample_to_image(sample, width=28, height=28):\n",
    "    image = sample.reshape(width, height)\n",
    "    imgplot = plt.imshow(image)\n",
    "    plt.show()\n",
    "\n",
    "create_images()"
   ]
  },
  {
   "cell_type": "code",
   "execution_count": null,
   "metadata": {
    "collectable": true
   },
   "outputs": [],
   "source": []
  },
  {
   "cell_type": "markdown",
   "metadata": {},
   "source": [
    "### 3.\n",
    "\n",
    "For each possible value of\n",
    "$$\n",
    "\\left(\\bar{z}_{1}, \\bar{z}_{2}\\right) \\in\\{-3,-2.75, \\ldots, 2.75,3\\} \\times\\{-3,-2.75, \\ldots, 2.75,3\\}\n",
    "$$\n",
    "compute the conditional expectation $E\\left[X_{1: 784} \\mid Z_{1}, Z_{2}=\\left(\\bar{z}_{1}, \\bar{z}_{2}\\right)\\right] .$ This is the expected image corresponding to each possible value of the latent variables $Z_{1}, Z_{2} .$ Plot the images on on a $2 \\mathrm{D}$ grid where the grid axes correspond to $Z_{1}$ and $Z_{2}$ respectively. What is the intuitive role of the $Z_{1}, Z_{2}$ variables in this model? (8 points)"
   ]
  },
  {
   "cell_type": "code",
   "execution_count": 81,
   "metadata": {
    "collectable": true
   },
   "outputs": [
    {
     "data": {
      "image/png": "[encoded data removed]",
      "text/plain": [
       "<Figure size 432x288 with 1 Axes>"
      ]
     },
     "metadata": {
      "needs_background": "light"
     },
     "output_type": "display_data"
    }
   ],
   "source": [
    "def get_all_expected_images():\n",
    "    z1_values = sorted(list(bayes_net['prior_z1'].keys()))\n",
    "    z2_values = sorted(list(bayes_net['prior_z2'].keys()))\n",
    "    all_images = np.zeros(shape=(28*len(z2_values), 28*len(z1_values)))\n",
    "    for i in range(len(z2_values)):\n",
    "        for j in range(len(z1_values)):\n",
    "            image = get_conditional_image_expected(z1_values[j], z2_values[i])\n",
    "            set_parial_image(all_images, image, i, j)\n",
    "    #convert_sample_to_image(all_images, 28*25, 28*25)\n",
    "    plot_image(all_images)\n",
    "    \n",
    "def set_parial_image(all_images, image, i, j):\n",
    "    # i is index of z2 and j is index of z1\n",
    "    all_images [i*28:(i+1)*28, j*28:(j+1)*28] = image\n",
    "    \n",
    "def get_conditional_image_expected(z1, z2):\n",
    "    sample = bayes_net['cond_likelihood'][(z1, z2)]\n",
    "    sample = sample.reshape(28,28)\n",
    "    return sample\n",
    "\n",
    "def plot_image(image):\n",
    "    imgplot = plt.imshow(image, extent = [-3, 3, 3, -3])\n",
    "    plt.xlabel('Z1')\n",
    "    plt.ylabel('Z2')\n",
    "    plt.show()\n",
    "\n",
    "\n",
    "get_all_expected_images()"
   ]
  },
  {
   "cell_type": "code",
   "execution_count": 82,
   "metadata": {
    "collectable": true
   },
   "outputs": [],
   "source": [
    "# The intuitive role of Z2 seems to be roundness of the image. As Z2 grows, the roundness of the number in the images decrease.\n",
    "#For example, when Z2=(-3) : number in images are 0, 4, 8. However, when Z2=3: number in images are 7, 1 that don't have a \n",
    "# round shape. \n",
    "# The intuitive role of Z1 is not completely clear, though. It seems that it is about the horizontal width. when Z1 amount\n",
    "# increases, the horizontal length decreases. "
   ]
  },
  {
   "cell_type": "code",
   "execution_count": 93,
   "metadata": {},
   "outputs": [],
   "source": [
    "mat = loadmat('Helper_codes/testval.mat')\n",
    "val_data = mat['val_x']\n",
    "test_data = mat['test_x']"
   ]
  },
  {
   "cell_type": "markdown",
   "metadata": {},
   "source": [
    "### 4.\n",
    "You are given a validation and a test dataset. In the test dataset, some images are \"real\" handwritten digits, and some are anomalous (corrupted images). We would like to use our Bayesian network to distinguish real images from the anomalous ones. Intuitively, our Bayesian network should assign low probability to corrupted images and high probability to the real ones, and we can use this for classification. To do this, we first compute the average marginal log-likelihood,\n",
    "$$\n",
    "\\log p\\left(x_{1: 784}\\right)=\\log \\sum_{z_{1}} \\sum_{z_{2}} p\\left(z_{1}, z_{2}, x_{1: 784}\\right)\n",
    "$$\n",
    "on the validation dataset, and the standard deviation (again, standard deviation over the validation set). Consider a simple prediction rule where images with marginal log-likelihood, $\\log p\\left(x_{1: 784}\\right)$, outside three standard deviations of the average marginal log-likelihood are classified as corrupted. Classify images in the test set as corrupted or real using this rule. Then plot a histogram of the marginal log-likelihood for the images classified as \"real\". Plot a separate histogram of the marginal log-likelihood for the images classified as \"corrupted\". (15 points)"
   ]
  },
  {
   "cell_type": "code",
   "execution_count": 87,
   "metadata": {
    "collectable": true
   },
   "outputs": [
    {
     "name": "stdout",
     "output_type": "stream",
     "text": [
      "Start\n",
      "end of training\n",
      "end of test\n",
      "-138.67476852673386 45.45178754499587\n"
     ]
    },
    {
     "data": {
      "image/png": "[encoded data removed]",
      "text/plain": [
       "<Figure size 432x288 with 1 Axes>"
      ]
     },
     "metadata": {
      "needs_background": "light"
     },
     "output_type": "display_data"
    },
    {
     "data": {
      "image/png": "[encoded data removed]",
      "text/plain": [
       "<Figure size 432x288 with 1 Axes>"
      ]
     },
     "metadata": {
      "needs_background": "light"
     },
     "output_type": "display_data"
    }
   ],
   "source": [
    "z1s = np.linspace(-3, 3, 25)\n",
    "z2s = np.linspace(-3, 3, 25)\n",
    "\n",
    "def get_X_condition_z1_z2():\n",
    "    '''\n",
    "     returns dict of shape {(z1_value, z2_value): X} \n",
    "    X is X1:784 when all elements are one \n",
    "    '''\n",
    "    result = {}\n",
    "    for z1 in z1s:\n",
    "        for z2 in z2s:\n",
    "            p_x_cond_z1_z2 = get_p_x_cond_z1_z2(z1, z2) \n",
    "            result.update({(z1, z2): p_x_cond_z1_z2})\n",
    "    return result\n",
    "\n",
    "def get_data_prob_log (sample, z1, z2, X_condition_z1_z2):\n",
    "    '''\n",
    "    returns P(X[1:784],z1,z2)\n",
    "    '''\n",
    "    pixel_prob = np.zeros(28*28)\n",
    "    X_condition = X_condition_z1_z2[(z1, z2)]\n",
    "    p_z1_z2 = get_p_z1(z1) * get_p_z2(z2)\n",
    "    conditional_X_prob = np.where(sample ==1, X_condition, 1 - X_condition)\n",
    "    return np.prod(conditional_X_prob) * p_z1_z2\n",
    "    \n",
    "\n",
    "def get_data_loglikelihood(all_data):\n",
    "    X_condition_z1_z2 = get_X_condition_z1_z2()\n",
    "    log_likelihood_prob = []\n",
    "    result = np.zeros(len(all_data))\n",
    "    for i, data in enumerate(all_data):\n",
    "        #print(i)\n",
    "        total_prob = []\n",
    "        data_prob = [get_data_prob(data, z1, z2, X_condition_z1_z2) for z1 in z1s for z2 in z2s]\n",
    "        total_prob = np.sum(np.array(data_prob))\n",
    "        result[i] = np.log(total_prob if total_prob>0 else +1e-200)\n",
    "    return result\n",
    "\n",
    "def classify_data():\n",
    "    print('Start')\n",
    "    val_data_prob = get_data_loglikelihood(val_data)\n",
    "    print('end of training')\n",
    "    test_data_prob = get_data_loglikelihood(test_data)\n",
    "    print('end of test')\n",
    "    \n",
    "    validation_mean = np.mean(val_data_prob)\n",
    "    validation_std = np.std(val_data_prob)\n",
    "    print(validation_mean, validation_std)\n",
    "    \n",
    "    valid_tests = np.abs(test_data_prob - validation_mean) <= (3 * validation_std)\n",
    "    invalid_tests = test_data_prob[np.logical_not(valid_tests)] \n",
    "    valid_tests = test_data_prob [valid_tests]\n",
    "\n",
    "    plot_histogram(valid_tests, title = 'valid tests log likelihood')\n",
    "    plot_histogram(invalid_tests, title = 'invalid tests log likelihood')\n",
    "    \n",
    "def plot_histogram(data, title):\n",
    "    plt.figure() \n",
    "    plt.hist(data)  \n",
    "    plt.ylabel('frequency') \n",
    "    plt.title(title) \n",
    "    plt.show() \n",
    "    \n",
    "\n",
    "classify_data()"
   ]
  },
  {
   "cell_type": "code",
   "execution_count": null,
   "metadata": {
    "collectable": true
   },
   "outputs": [],
   "source": []
  },
  {
   "cell_type": "code",
   "execution_count": null,
   "metadata": {
    "collectable": true
   },
   "outputs": [],
   "source": []
  },
  {
   "cell_type": "markdown",
   "metadata": {},
   "source": [
    "---"
   ]
  },
  {
   "cell_type": "markdown",
   "metadata": {},
   "source": [
    "# Q2 (40 Points)"
   ]
  },
  {
   "cell_type": "markdown",
   "metadata": {},
   "source": [
    "<font size=4>\n",
    "Author: Mohammad Mahdi Asmae\n",
    "\t\t\t<br/>\n",
    "                <font color=red>\n",
    "Please run all the cells.\n",
    "     </font>\n",
    "</font>\n",
    "                <br/>\n",
    "    </div>"
   ]
  },
  {
   "cell_type": "markdown",
   "metadata": {
    "collectable": true
   },
   "source": [
    "# Sampling in Bayesian Network"
   ]
  },
  {
   "cell_type": "markdown",
   "metadata": {},
   "source": [
    "In this assignment, we will implement diffrent methods of sampling and try to compare the methods by varying queries and number of samples. In the next section you will implement Bayesian Network as a Python class with these methods:\n",
    "\n",
    "* CPT: returns conditional probability table of nodes\n",
    "* PMF: returns probability mass function of given query\n",
    "* Sampling: implementation of different sampling methods\n",
    "    \n",
    "We will use following BN in this problem."
   ]
  },
  {
   "cell_type": "markdown",
   "metadata": {},
   "source": [
    "<img src=\"Images/BN.png\" width=1400 height=1200 />"
   ]
  },
  {
   "cell_type": "code",
   "execution_count": 3,
   "metadata": {
    "collectable": true
   },
   "outputs": [],
   "source": [
    "############################################################\n",
    "# import necessary packages in this cell                   #\n",
    "# please set a random seed to get the same results in      #\n",
    "# different runs (1 Points)                                #\n",
    "############################################################\n",
    "import random\n",
    "import numpy as np\n",
    "import matplotlib.pyplot as plt\n",
    "\n",
    "random.seed(12)"
   ]
  },
  {
   "cell_type": "code",
   "execution_count": null,
   "metadata": {
    "collectable": true
   },
   "outputs": [],
   "source": []
  },
  {
   "cell_type": "code",
   "execution_count": 4,
   "metadata": {
    "collectable": true
   },
   "outputs": [],
   "source": [
    "A_CPT = {\n",
    "    ():0.8\n",
    "}\n",
    "B_CPT = {\n",
    "    (): 0.55\n",
    "}\n",
    "D_CPT = {\n",
    "    (False, False) : 0.8,\n",
    "    (True, False) : 0.5,\n",
    "    (False, True) : 0.65,\n",
    "    (True, True) : 0.67\n",
    "}\n",
    "C_CPT = {\n",
    "    (False, False) : 0.7,\n",
    "    (True, False) : 0.5,\n",
    "    (False, True) : 0.15,\n",
    "    (True, True) : 0.05\n",
    "}\n",
    "E_CPT = {\n",
    "    (True, ): 0.3,\n",
    "    (False, ): 0.9\n",
    "}\n",
    "F_CPT = {\n",
    "    (True, ): 0.2,\n",
    "    (False, ): 0.25   \n",
    "}"
   ]
  },
  {
   "cell_type": "code",
   "execution_count": 142,
   "metadata": {
    "collectable": true
   },
   "outputs": [],
   "source": [
    "class Node:\n",
    "    \n",
    "    def __init__(self, name:str, cpt:dict,  parents = []):\n",
    "        \"\"\"\n",
    "        cpt dict only stores probabilities when current the Node value is True.\n",
    "        {\n",
    "        (parents values): probability of node being True,\n",
    "        ...\n",
    "        }\n",
    "        if it has no parents, the tuple is empty but is still there!\n",
    "        \"\"\"\n",
    "        self.name = name\n",
    "        self.parents = parents\n",
    "        self.cpt = cpt\n",
    "        \n",
    "    def get_conditional_pmf(self, value:bool, evidences:dict):\n",
    "        \"\"\"\n",
    "        evidences is a dict that keys are node name and the values of dict are bool\n",
    "        P(node=value|evidence)\n",
    "        \"\"\"\n",
    "        total_prob = 0\n",
    "        for cpt_evidence, prob in self.cpt.items():\n",
    "            if self.is_evidence_seen(cpt_evidence, evidences):\n",
    "                total_prob += prob\n",
    "        return total_prob if value else 1 - total_prob\n",
    "    \n",
    "    def is_evidence_seen(self, cpt_evidence:tuple, evidences:dict)->bool:\n",
    "        for index, parent in enumerate(self.parents):\n",
    "            if isinstance(evidences[parent.name], tuple) and cpt_evidence[index] not in evidences[parent.name]:\n",
    "                return False\n",
    "            elif not isinstance(evidences[parent.name], tuple) and cpt_evidence[index] != evidences[parent.name]:\n",
    "                return False\n",
    "        return True\n",
    "    \n",
    "    def get_random_value(self, evidence):\n",
    "        parents_values = [evidence[parent.name] for parent in self.parents]\n",
    "        prob_1 = self.cpt[tuple(parents_values)]\n",
    "        prob_0 = 1 - prob_1\n",
    "        return random.choices([True, False],[prob_1, prob_0])[0]\n",
    "        \n",
    "class BN(object):\n",
    "    \"\"\"\n",
    "    Bayesian Network implementation with sampling methods as a class\n",
    "    \n",
    "    Attributes\n",
    "    ----------\n",
    "    n: int\n",
    "        number of variables\n",
    "        \n",
    "    all_nodes: dict of all nodes \n",
    "    it is a dict from name of node to node\n",
    "    to be able to retrieve required node in o(1)\n",
    "        Network representation as a dictionary. \n",
    "    \"\"\"\n",
    "    \n",
    "    def __init__(self, n = 6) -> None:\n",
    "        self.n = n\n",
    "        self.topological_sort_nodes = []\n",
    "        self.all_nodes = self.initialize_nodes()\n",
    "        \n",
    "    def initialize_nodes(self) -> dict:\n",
    "        a = Node(name='a', cpt = A_CPT)\n",
    "        b = Node(name='b', cpt = B_CPT)\n",
    "        e = Node(name='e', parents = [b, ], cpt = E_CPT)\n",
    "        c = Node(name='c', parents = [a,e], cpt = C_CPT)\n",
    "        d = Node(name='d',parents = [a, c], cpt = D_CPT)\n",
    "        f = Node(name='f', parents = [d,], cpt = F_CPT)\n",
    "        self.topological_sort_nodes.extend([a, b, e, c, d, f])\n",
    "        return {\n",
    "            'a': a,\n",
    "            'b': b,\n",
    "            'c': c,\n",
    "            'd': d,\n",
    "            'e' : e,\n",
    "            'f': f,\n",
    "         \n",
    "        }\n",
    "\n",
    "    \n",
    "    def cpt(self, node, value = 0) -> dict:\n",
    "        \"\"\"\n",
    "        This is a function that returns cpt of the given node\n",
    "        \n",
    "        Parameters\n",
    "        ----------\n",
    "        node:\n",
    "            a variable in the bayes' net\n",
    "            \n",
    "        Returns\n",
    "        -------\n",
    "        result: dict\n",
    "        constants that are mentioned before \n",
    "        \"\"\"\n",
    "        return self.all_nodes[node].cpt\n",
    "    \n",
    "    def pmf(self, query, evidence) -> float:\n",
    "        \"\"\"\n",
    "        This function gets a variable and its value as query and a list of evidences and returns probability \n",
    "        mass function P(Q=q|E=e)\n",
    "        \n",
    "        Parameters\n",
    "        ----------\n",
    "        query:\n",
    "            a variable and its value\n",
    "            e.g. ('a', 1)\n",
    "        evidence:\n",
    "            dict of variables and their values\n",
    "            e.g. {'a': 1, 'b': 1}\n",
    "        \n",
    "        Returns\n",
    "        -------\n",
    "        PMF: float\n",
    "            P(query|evidence)\n",
    "        \"\"\"\n",
    "        return self.enumeration_ask(query[0], evidence)[query[1]]\n",
    "        \n",
    "    def enumeration_ask(self, query_name:str, evidence:dict):\n",
    "        distribution = {}\n",
    "        probability_sum = 0\n",
    "        for query_value in [True, False]:\n",
    "            evidence.update({query_name:query_value})\n",
    "            enumeration_all_result = self.enumeration_all(self.topological_sort_nodes, 0, {**evidence, query_name:query_value})\n",
    "            distribution.update({query_value: enumeration_all_result })\n",
    "        return self.normalize(distribution)\n",
    "    \n",
    "    def normalize(self, distribution):\n",
    "        total = sum(distribution.values())\n",
    "        if not np.isclose(total, 1.0):\n",
    "            for value, prob in distribution.items():\n",
    "                distribution.update({value: prob/total})\n",
    "        return distribution\n",
    "    \n",
    "    def enumeration_all(self, variables, current_index=0, evidence={}):\n",
    "        if current_index == len(self.topological_sort_nodes):\n",
    "            return 1.0\n",
    "        var_name = self.topological_sort_nodes[current_index].name\n",
    "        var_node = self.all_nodes[var_name]\n",
    "        if var_name in evidence:\n",
    "            conditional_pmf = var_node.get_conditional_pmf(evidence[var_name], evidence)\n",
    "            return conditional_pmf * self.enumeration_all(variables, current_index+1, evidence)\n",
    "             \n",
    "        else:\n",
    "            conditional_pmf_true = var_node.get_conditional_pmf(True, evidence) * self.enumeration_all(variables, current_index+1, {**evidence, var_name:True})\n",
    "            evidence.update({var_name:(False, True)})\n",
    "            conditional_pmf_false = var_node.get_conditional_pmf(False, evidence) * self.enumeration_all(variables, current_index+1, {**evidence, var_name:False})\n",
    "            return conditional_pmf_false + conditional_pmf_true\n",
    "        \n",
    "        \n",
    "    \n",
    "    def sampling(self, query, evidence, sampling_method, num_iter, num_burnin = 1e2) -> float:\n",
    "        query_name , query_value = query\n",
    "        evidence = self.convert_evidence_to_dict(evidence)\n",
    "        \"\"\"\n",
    "        Parameters\n",
    "        ----------\n",
    "        query: list\n",
    "            list of variables an their values\n",
    "            e.g. ('a', 0)\n",
    "        evidence: list\n",
    "            list of observed variables and their values\n",
    "            e.g. [('b', 0), ('c', 1)]\n",
    "        sampling_method:\n",
    "            \"Prior\", \"Rejection\", \"Likelihood Weighting\", \"Gibbs\"\n",
    "        num_iter:\n",
    "            number of the generated samples \n",
    "        num_burnin:\n",
    "            (used only in gibbs sampling) number of samples that we ignore at the start for gibbs method to converge\n",
    "            \n",
    "        Returns\n",
    "        -------\n",
    "        probability: float\n",
    "            approximate P(query|evidence) calculated by sampling\n",
    "        \"\"\"\n",
    "        if sampling_method == 'Prior':\n",
    "            return self.prior_sampling(query_name, query_value, evidence, num_iter)\n",
    "        elif sampling_method == 'Rejection':\n",
    "            return self.rejection_sampling(query_name, query_value, evidence, num_iter)\n",
    "        elif sampling_method == 'Likelihood Weighting':\n",
    "            return self.likelihood_sampling(query_name, query_value, evidence, num_iter)\n",
    "        elif sampling_method == 'Gibbs':\n",
    "            return self.gibbs_sampling(query_name, query_value, evidence, num_iter, int(num_burnin))\n",
    "            \n",
    "        \n",
    "    def prior_sampling(self, query_name, query_value, evidence, num_iter):\n",
    "        suitable_samples =  0\n",
    "        accepted_query_samples = 0\n",
    "        for i in range(num_iter):\n",
    "            sample = self.generate_prior_sample()\n",
    "            if self.is_sample_accepted(evidence, sample):\n",
    "                suitable_samples += 1\n",
    "                if sample[query_name] == query_value:\n",
    "                    accepted_query_samples += 1\n",
    "        return accepted_query_samples/suitable_samples\n",
    "            \n",
    "            \n",
    "    def generate_prior_sample(self):\n",
    "        sample = {}\n",
    "        for node in self.topological_sort_nodes:\n",
    "            sample.update({node.name : node.get_random_value(sample)}) \n",
    "        return sample\n",
    "            \n",
    "    def is_sample_accepted(self, evidence, sample):\n",
    "        for node_name, node_value in evidence.items():\n",
    "            if sample[node_name] != node_value:\n",
    "                return False\n",
    "        return True\n",
    "    \n",
    "    def rejection_sampling(self, query_name, query_value, evidence, num_iter):\n",
    "        suitable_samples = 0\n",
    "        accepted_query_samples = 0\n",
    "        for i in range(num_iter):\n",
    "            sample = self.generate_rejection_sample(evidence)\n",
    "            suitable_samples += 1\n",
    "            if sample[query_name] == query_value:\n",
    "                accepted_query_samples += 1\n",
    "        return accepted_query_samples/suitable_samples\n",
    "    \n",
    "    def generate_rejection_sample(self, evidence: dict):\n",
    "        created_sample = self.get_rejection_sample(evidence)\n",
    "        while not created_sample:\n",
    "            created_sample = self.get_rejection_sample(evidence)\n",
    "        return created_sample\n",
    "            \n",
    "        \n",
    "    def get_rejection_sample(self, evidence):\n",
    "        sample = {}\n",
    "        for node in self.topological_sort_nodes:\n",
    "            node_value = node.get_random_value(sample)\n",
    "            if node.name in evidence and node_value!= evidence[node.name]:\n",
    "                return False\n",
    "            sample.update({node.name: node_value})\n",
    "        return sample\n",
    "    \n",
    "    def likelihood_sampling(self, query_name, query_value, evidence, num_iter):\n",
    "        total_weight = 0\n",
    "        query_weight = 0\n",
    "        for i in range(num_iter):\n",
    "            sample,w = self.get_weighting_sample(evidence)\n",
    "            total_weight += w\n",
    "            if sample[query_name] == query_value:\n",
    "                query_weight += w\n",
    "        return query_weight/total_weight\n",
    "            \n",
    "    def get_weighting_sample(self, evidence):\n",
    "        sample = {**evidence}\n",
    "        w = 1.0\n",
    "        for node in self.topological_sort_nodes:\n",
    "            if node.name in evidence:\n",
    "                w *= node.get_conditional_pmf(evidence[node.name], sample)\n",
    "            else:\n",
    "                node_random_value = node.get_random_value(sample)\n",
    "                sample.update({node.name: node_random_value})\n",
    "        return sample, w\n",
    "    \n",
    "    def gibbs_sampling(self, query_name, query_value, evidence, num_iter, num_burn):\n",
    "        sample = {**evidence}\n",
    "        suitable_samples = 0\n",
    "        non_evidence_nodes = []\n",
    "        for node in self.topological_sort_nodes:\n",
    "            if node.name not in sample:\n",
    "                non_evidence_nodes.append(node)\n",
    "                sample.update({node.name:random.choice([True, False])})\n",
    "        self.gibbs_burn_samples(sample, evidence, num_burn, non_evidence_nodes)\n",
    "        for i in range(num_iter):\n",
    "            sample = self.get_gibbs_sample(sample, non_evidence_nodes)\n",
    "            if sample[query_name] == query_value:\n",
    "                suitable_samples += 1\n",
    "        return suitable_samples/num_iter\n",
    "\n",
    "        \n",
    "    def gibbs_burn_samples(self, sample, evidence, num_burn, non_evidence_nodes):\n",
    "        for i in range(num_burn):\n",
    "            sample = self.get_gibbs_sample(sample, non_evidence_nodes)\n",
    "        return sample\n",
    "    \n",
    "    def get_gibbs_sample(self, sample, non_evidence_nodes):\n",
    "        for node in non_evidence_nodes:\n",
    "            sample.pop(node.name)\n",
    "            node_prob = self.pmf((node.name, True), sample)\n",
    "            new_value = random.choices([True, False], [node_prob, 1- node_prob])[0]\n",
    "            sample.update({node.name : new_value})\n",
    "        return sample\n",
    "            \n",
    "    \n",
    "    def convert_evidence_to_dict(self, evidence):\n",
    "        evidence_dict = {}\n",
    "        for name, value in evidence:\n",
    "            evidence_dict.update({name: value})\n",
    "        return evidence_dict\n",
    "    \n",
    "    "
   ]
  },
  {
   "cell_type": "code",
   "execution_count": null,
   "metadata": {
    "collectable": true,
    "scrolled": false
   },
   "outputs": [],
   "source": []
  },
  {
   "cell_type": "code",
   "execution_count": 148,
   "metadata": {
    "collectable": true
   },
   "outputs": [],
   "source": [
    "bayes_net = BN()\n",
    "SAMPLE_NUMBERS = [100, 500, 1000, 3000, 10_000, 50_000 ]\n",
    "FIRST_QUERY_PROB = bayes_net.pmf(('f',True),{'a':True, 'e':False})\n",
    "SECOND_QUERY_PROB = bayes_net.pmf(('c', False),{'f':True, 'd':False})"
   ]
  },
  {
   "cell_type": "code",
   "execution_count": null,
   "metadata": {
    "collectable": true
   },
   "outputs": [],
   "source": []
  },
  {
   "cell_type": "markdown",
   "metadata": {},
   "source": [
    "In this part you will compare sampling results with real probabilities for these settings:\n",
    "\n",
    "* query: $P(F=1|A=1,E=0)$ , $P(C=0|F=1,D=0)$\n",
    "* number of samples: 100, 500, 1000, 3000, 10000, 50000\n",
    "\n",
    "First find the probabilities with inference methods, then find the approximate probabilities for the queries with sampling methods with different number of samples. At the end, you will plot errors of diffrent methods by number of samples.\n",
    "<br>\n",
    "<font color = 'red'>\n",
    "    each of the sampling methods is tested in a different cell. \n",
    "    the gibbs sampling test is after the report of accuracy for different burnin values \n",
    "</font> \n",
    "    "
   ]
  },
  {
   "cell_type": "code",
   "execution_count": 150,
   "metadata": {
    "collectable": true
   },
   "outputs": [],
   "source": [
    "all_samplings_first_query = {'Prior':[], 'Rejection':[], 'Likelihood Weighting':[], 'Gibbs':[]}\n",
    "all_samplings_second_query = {'Prior':[], 'Rejection':[], 'Likelihood Weighting':[], 'Gibbs':[]}\n",
    "\n",
    "def plot_data():\n",
    "    plt.xlabel('sample count')\n",
    "    plt.ylabel('error')\n",
    "    plt.title('first query')\n",
    "    for sampling_name,sampling_values in all_samplings_first_query.items():\n",
    "        plt.plot(SAMPLE_NUMBERS,sampling_values, label = sampling_name)\n",
    "    plt.legend()\n",
    "    plt.show()\n",
    "    plt.xlabel('sample count')\n",
    "    plt.ylabel('error')\n",
    "    plt.title('second query')\n",
    "    for sampling_name,sampling_values in all_samplings_second_query.items():\n",
    "        plt.plot(SAMPLE_NUMBERS,sampling_values, label = sampling_name)\n",
    "    plt.legend()\n",
    "    plt.show()\n",
    "    \n",
    "def test_samplings():\n",
    "    for sampling, first_data_list in all_samplings_first_query.items():\n",
    "        sample_query(sampling, first_data_list, FIRST_QUERY_PROB, ('f',True), [('a', True),('e', False)])\n",
    "        second_data_list = all_samplings_second_query[sampling]\n",
    "        sample_query(sampling, second_data_list, SECOND_QUERY_PROB, ('c',False), [('f',True),('d',False)])\n",
    "        print('sampling', sampling, 'ended')\n",
    "\n",
    "def sample_query(sampling,data_list, inference_value, query, evidence):\n",
    "    for count in SAMPLE_NUMBERS:\n",
    "        prob = bayes_net.sampling(query, evidence, sampling, count) \n",
    "        data_list.append(np.abs(prob-inference_value))   \n"
   ]
  },
  {
   "cell_type": "code",
   "execution_count": 151,
   "metadata": {
    "collectable": true,
    "scrolled": true
   },
   "outputs": [
    {
     "name": "stdout",
     "output_type": "stream",
     "text": [
      "sampling Prior ended\n",
      "sampling Rejection ended\n",
      "sampling Likelihood Weighting ended\n",
      "sampling Gibbs ended\n"
     ]
    }
   ],
   "source": [
    "test_samplings()"
   ]
  },
  {
   "cell_type": "code",
   "execution_count": 152,
   "metadata": {
    "collectable": true
   },
   "outputs": [
    {
     "data": {
      "image/png": "[encoded data removed]",
      "text/plain": [
       "<Figure size 432x288 with 1 Axes>"
      ]
     },
     "metadata": {
      "needs_background": "light"
     },
     "output_type": "display_data"
    },
    {
     "data": {
      "image/png": "[encoded data removed]",
      "text/plain": [
       "<Figure size 432x288 with 1 Axes>"
      ]
     },
     "metadata": {
      "needs_background": "light"
     },
     "output_type": "display_data"
    }
   ],
   "source": [
    "plot_data()"
   ]
  },
  {
   "cell_type": "markdown",
   "metadata": {},
   "source": [
    "For Gibbs sampling, try different burnin values and report the accuracy (or error)."
   ]
  },
  {
   "cell_type": "code",
   "execution_count": 161,
   "metadata": {
    "collectable": true,
    "scrolled": true
   },
   "outputs": [
    {
     "data": {
      "image/png": "[encoded data removed]",
      "text/plain": [
       "<Figure size 432x288 with 1 Axes>"
      ]
     },
     "metadata": {
      "needs_background": "light"
     },
     "output_type": "display_data"
    },
    {
     "data": {
      "image/png": "[encoded data removed]",
      "text/plain": [
       "<Figure size 432x288 with 1 Axes>"
      ]
     },
     "metadata": {
      "needs_background": "light"
     },
     "output_type": "display_data"
    }
   ],
   "source": [
    "BURNIN_VALUES = [100, 200, 1000, 5000, 10000, 20_000, 50_000]\n",
    "FIRST_QUERY_BURNIN = []\n",
    "SECOND_QUERY_BURNIN = []\n",
    "def test_different_burnin_values():\n",
    "    for burnin in BURNIN_VALUES:\n",
    "        prob = bayes_net.sampling(('f',True), [('a', True),('e', False)], 'Gibbs', 2000, burnin) \n",
    "        FIRST_QUERY_BURNIN.append(np.abs(prob - FIRST_QUERY_PROB))\n",
    "        prob = bayes_net.sampling( ('c',False), [('f',True),('d',False)], 'Gibbs', 2000, burnin) \n",
    "        SECOND_QUERY_BURNIN.append(np.abs(prob - SECOND_QUERY_PROB))\n",
    "    plot_burnins('first query', FIRST_QUERY_BURNIN)\n",
    "    plot_burnins('second query', SECOND_QUERY_BURNIN)\n",
    "    \n",
    "def plot_burnins(name, values):\n",
    "    plt.plot(BURNIN_VALUES, values)\n",
    "    plt.title(name)\n",
    "    plt.xlabel('burnin values')\n",
    "    plt.ylabel('error')\n",
    "    plt.show()\n",
    "\n",
    "test_different_burnin_values()"
   ]
  },
  {
   "cell_type": "code",
   "execution_count": null,
   "metadata": {
    "collectable": true
   },
   "outputs": [],
   "source": [
    "# extra space"
   ]
  },
  {
   "cell_type": "code",
   "execution_count": null,
   "metadata": {
    "collectable": true
   },
   "outputs": [],
   "source": [
    "# extra space"
   ]
  },
  {
   "cell_type": "markdown",
   "metadata": {},
   "source": [
    "# Q3 (20+ 5 Points)"
   ]
  },
  {
   "cell_type": "markdown",
   "metadata": {},
   "source": [
    "<font size=4>\n",
    "Author: Kian Bakhtari\n",
    "\t\t\t<br/>\n",
    "                <font color=red>\n",
    "Please run all the cells.\n",
    "     </font>\n",
    "</font>\n",
    "                <br/>\n",
    "    </div>"
   ]
  },
  {
   "cell_type": "markdown",
   "metadata": {},
   "source": [
    "## The Puerto Princesa ship"
   ]
  },
  {
   "cell_type": "markdown",
   "metadata": {},
   "source": [
    "At midnight on a fall day in the Philippines, a ship leaves Puerto Princesa City's seaport to Macao, China. After one or two hours, the boat loses its GPS connection because of a technical issue. Captain keeps navigating the ship to its destination, using the stars and four old radio towers, which you can see on the map. Each antenna could measure the ship's coordinates (X, Y) and send them to its receiver. There are five records of towers signals at five different times, available for you in the records.json file. Also, the boat's actual coordinates are available in the real_coordinates.json file. The exact coordinates are ONLY FOR EVALUATION PURPOSES, and you CAN NOT use them as input data. The five dots on the map below are actual coordinates of the ship, at each time step where the records from antennas were received. Also, the map is decorative and is not part of the data."
   ]
  },
  {
   "cell_type": "markdown",
   "metadata": {},
   "source": [
    "![Figure3-1](./Images/map.png)"
   ]
  },
  {
   "cell_type": "markdown",
   "metadata": {},
   "source": [
    "Each tower has a noise that is coming from a gaussian distribution, meaning that every (X, Y) pair that is received from an antenna is actually derived from:\n",
    "\n",
    "X = sample_from_normal_distribution(mean = X_real, std = antenna's std)\n",
    "Y = sample_from_normal_distribution(mean = Y_real, std = antenna's std)\n",
    "\n",
    "Information of radio towers (coordinate and noise standard deviation) is available in the towers_info.json file.\n",
    "\n",
    "The ship's movement between those five different time steps could be mathematically modeled as follows:\n",
    "At each time step, the ship moves D units to the north and F units to either east or west (half of the times west, and half of the times east). D and F are both samples from exponential distributions with a scale of Y_STEP and X_STEP, respectively. Those parameters are available in the moving_model.json file."
   ]
  },
  {
   "cell_type": "markdown",
   "metadata": {},
   "source": [
    "### Hidden Markov Model"
   ]
  },
  {
   "cell_type": "markdown",
   "metadata": {},
   "source": [
    "At this point, you can build a simple HMM and estimate the ship's coordinates using the conditional probabilities that you have. For each time step, calculate the ship's coordinates at that time step and previous time steps, using the tower records received up to that time. In simpler words, calculate:<br>\n",
    "\n",
    "P(coor_0 | records_0)<br>\n",
    "P(coor_1 | records_0, records_1)<br>\n",
    "...<br>\n",
    "P(coor_4 | records_0, records_1, records_2, records_3, records_4)<br>\n"
   ]
  },
  {
   "cell_type": "markdown",
   "metadata": {},
   "source": [
    "The actual coordinates of the ship in the first time step (coor_0) is coming from a 2-dimensional guassian distribution with the mean of Puerto Princesa city's coordinates and covarianve matrix of INIT_COV (scalar) times the identity matrix. INIT_COV and coordinates of Puerto Princesa city is availabel in moving_model.json file."
   ]
  },
  {
   "cell_type": "markdown",
   "metadata": {},
   "source": [
    "## Libraries"
   ]
  },
  {
   "cell_type": "code",
   "execution_count": null,
   "metadata": {},
   "outputs": [],
   "source": [
    "import numpy as np\n",
    "import pandas as pd\n",
    "from matplotlib import pyplot as plt\n",
    "import json\n",
    "\n",
    "from scipy.stats import norm, expon\n",
    "import scipy\n",
    "import pandas as pd"
   ]
  },
  {
   "cell_type": "markdown",
   "metadata": {},
   "source": [
    "## Data"
   ]
  },
  {
   "cell_type": "code",
   "execution_count": null,
   "metadata": {},
   "outputs": [],
   "source": [
    "real_coordinates = json.load(open('./inputs/real_coordinates.json'))\n",
    "pd.DataFrame(real_coordinates)"
   ]
  },
  {
   "cell_type": "code",
   "execution_count": null,
   "metadata": {},
   "outputs": [],
   "source": [
    "towers_info = json.load(open('./inputs/towers_info.json'))\n",
    "pd.DataFrame(towers_info)"
   ]
  },
  {
   "cell_type": "code",
   "execution_count": null,
   "metadata": {},
   "outputs": [],
   "source": [
    "moving_model = json.load(open('./inputs/moving_model.json'))\n",
    "moving_model"
   ]
  },
  {
   "cell_type": "code",
   "execution_count": null,
   "metadata": {},
   "outputs": [],
   "source": [
    "records = json.load(open('./inputs/records.json'))\n",
    "pd.DataFrame(records)"
   ]
  },
  {
   "cell_type": "markdown",
   "metadata": {},
   "source": [
    "## Functions"
   ]
  },
  {
   "cell_type": "code",
   "execution_count": null,
   "metadata": {},
   "outputs": [],
   "source": [
    "tower_records = [(records.get('Tower1')[i],\n",
    "                  records.get('Tower2')[i], \n",
    "                  records.get('Tower3')[i], \n",
    "                  records.get('Tower4')[i]) for i in range(5)]"
   ]
  },
  {
   "cell_type": "code",
   "execution_count": null,
   "metadata": {},
   "outputs": [
    {
     "data": {
      "text/plain": [
       "[([994, -36], [873, -28], [958, 70], [1077, -128]),\n",
       " ([1053, 63], [926, 26], [961, 110], [905, 82]),\n",
       " ([956, 389], [1106, 499], [1005, 397], [901, 326]),\n",
       " ([331, 1227], [377, 1232], [270, 1282], [232, 1051]),\n",
       " ([520, 1376], [577, 1446], [397, 1456], [648, 1364])]"
      ]
     },
     "metadata": {},
     "output_type": "display_data"
    }
   ],
   "source": [
    "tower_records"
   ]
  },
  {
   "cell_type": "code",
   "execution_count": null,
   "metadata": {
    "collectable": true
   },
   "outputs": [],
   "source": [
    "# extra space"
   ]
  },
  {
   "cell_type": "code",
   "execution_count": null,
   "metadata": {
    "collectable": true
   },
   "outputs": [],
   "source": [
    "# extra space"
   ]
  },
  {
   "cell_type": "code",
   "execution_count": null,
   "metadata": {
    "collectable": true
   },
   "outputs": [],
   "source": [
    "def get_mean_towers_coor(time_step: int, tower_records: list):\n",
    "    # The average of all four towers measurements at a given time step\n",
    "    x = np.average([tower_coor[0] for tower_coor in tower_records[time_step]])\n",
    "    y = np.average([tower_coor[1] for tower_coor in tower_records[time_step]])\n",
    "    return x, y\n",
    "\n",
    "\n",
    "def P_coor0(coor0):\n",
    "    # Distribuiton of initial coordinates (time step 0)\n",
    "    x0, y0 = coor0\n",
    "    return scipy.stats.multivariate_normal.pdf([x0, y0], \n",
    "                            mean=moving_model.get('Peurto_coordinates'),cov=moving_model.get('INIT_COV'))\n",
    "\n",
    "\n",
    "# filling these three functions with apropriate codes: (2 points)\n",
    "\n",
    "def P_coor_given_prevCoor(coor, prev_coor):\n",
    "    # Probability of coordinates at time step i, given the coordinates of time step i-1\n",
    "    f, d = (coor[0] - prev_coor[0], coor[1] - prev_coor[1])\n",
    "    return (\n",
    "        0.5 * scipy.stats.expon.pdf(np.abs(f), scale=moving_model['X_STEP']),\n",
    "        scipy.stats.expon.pdf(d, scale=moving_model['Y_STEP'])\n",
    "    )\n",
    "\n",
    "    \n",
    "def P_towerCoor_given_coor(tower_coor, tower_std, coor):\n",
    "    return (\n",
    "        scipy.stats.norm(coor[0], tower_std).pdf(tower_coor[0]),\n",
    "        scipy.stats.norm(coor[1], tower_std).pdf(tower_coor[1])\n",
    "    )\n",
    "    \n",
    "    \n",
    "def P_record_given_coor(rec, coor, towers_info):\n",
    "    # All four measurements of all four towers at time step i, is called the record of thime step i.\n",
    "    # This function returns the probability of a record given the ship's coordinates.\n",
    "    return np.prod([\n",
    "        P_towerCoor_given_coor(rec[i], info['std'], coor)\n",
    "        for i, info in enumerate(towers_info.values())\n",
    "    ], axis=0)"
   ]
  },
  {
   "cell_type": "code",
   "execution_count": null,
   "metadata": {
    "collectable": true
   },
   "outputs": [],
   "source": []
  },
  {
   "cell_type": "code",
   "execution_count": null,
   "metadata": {
    "collectable": true
   },
   "outputs": [],
   "source": [
    "# extra space"
   ]
  },
  {
   "cell_type": "code",
   "execution_count": null,
   "metadata": {},
   "outputs": [],
   "source": [
    "def real_coor(time_step):\n",
    "    return round(real_coordinates.get('X')[time_step]), round(real_coordinates.get('Y')[time_step])\n",
    "\n",
    "def dist(coor_a, coor_b):\n",
    "    return round(np.sqrt((coor_a[0] - coor_b[0])**2 + (coor_a[1] - coor_b[1])**2))\n",
    "\n",
    "coor0_estimations = []\n",
    "coor1_estimations = []\n",
    "coor2_estimations = []\n",
    "coor3_estimations = []"
   ]
  },
  {
   "cell_type": "markdown",
   "metadata": {},
   "source": [
    "#### Estimating coordinates_0 from P(coor_0) and record_0"
   ]
  },
  {
   "cell_type": "markdown",
   "metadata": {},
   "source": [
    "In the cell below, you can see the approach for finding the argmax of P(coor_0 | record_0), which is equal to argmax of P(record_0 | coor_0) times P(coor_0).\n",
    "We are not using derivatives to find the argmax, we are actually doing it numerically by trying different coordinates and seeing which one provides the highest probability. <br>\n",
    "\n",
    "#### Recommended approach: You can use gradient descent to find the argmax of probability function, and that will give you 5 extra points."
   ]
  },
  {
   "cell_type": "code",
   "execution_count": null,
   "metadata": {},
   "outputs": [],
   "source": [
    "# argmax P(coor_0 | record_0) = argmax P(record_0 | coor_0) P(coor_0)\n",
    "\n",
    "best_x0, best_y0 = None, None\n",
    "\n",
    "max_Px, max_Py = 0, 0\n",
    "interval, step = 30, 5\n",
    "# Larger interval and smaller step will lead to a more accurate result, but will increase computational \n",
    "# complexity deramaticly. Feel free to use other approaches like running this cell more than once and tighten\n",
    "# the searching interval with smaller steps. \n",
    "# Recommended approach: You can use gradient descent to find the argmax of probability\n",
    "# function, and that will give you 5 extra points.\n",
    "\n",
    "towers_mean_x0, towers_mean_y0 = get_mean_towers_coor(0, tower_records)\n",
    "\n",
    "for x0 in range(int(towers_mean_x0 - interval), int(towers_mean_x0 + interval), step):\n",
    "    for y0 in range(int(towers_mean_y0 - interval), int(towers_mean_y0 + interval), step):\n",
    "        \n",
    "        coor0 = (x0, y0)\n",
    "        rec0 = tower_records[0]\n",
    "\n",
    "        P_rec0_given_x0, P_rec0_given_y0 = P_record_given_coor(rec0, coor0, towers_info)\n",
    "        p_c0 = P_coor0(coor0)\n",
    "    \n",
    "        Px = P_rec0_given_x0 * p_c0\n",
    "        Py = P_rec0_given_y0 * p_c0\n",
    "\n",
    "        if Px > max_Px:\n",
    "            best_x0 = x0\n",
    "            max_Px = Px\n",
    "\n",
    "        if Py > max_Py:\n",
    "            best_y0 = y0\n",
    "            max_Py = Py\n",
    "\n",
    "\n",
    "coor0_estimations.append((best_x0, best_y0))"
   ]
  },
  {
   "cell_type": "code",
   "execution_count": null,
   "metadata": {},
   "outputs": [],
   "source": [
    "def gradient(func, coors):\n",
    "\n",
    "    epsilon = 1E-1\n",
    "    grads = []\n",
    "    coors = coors.tolist()\n",
    "\n",
    "    for i, coor in enumerate(coors):\n",
    "        grad = []\n",
    "        for idx in range(len(coor)):\n",
    "            x_ = coor.copy()\n",
    "            x_[idx] += epsilon\n",
    "                \n",
    "            coors_ = coors.copy()\n",
    "            coors_[i] = x_\n",
    "            grad.append((func(coors_, idx) - func(coors, idx)) / epsilon)\n",
    "\n",
    "        grads.append(grad)\n",
    "    return np.array(grads)\n",
    "\n",
    "\n",
    "def gradiant_descent(\n",
    "    func, initial_point, learning_rate: float = 5, max_iterations: int = 1000\n",
    "):\n",
    "    x = np.array(initial_point, dtype=np.float_).copy()\n",
    "    for _ in range(max_iterations):\n",
    "        prev_x = x.copy()\n",
    "        x -= learning_rate * gradient(func, x)\n",
    "        if np.array_equal(x, prev_x):\n",
    "            break\n",
    "\n",
    "    return x\n",
    "\n",
    "def estimation_func(coors, idx):\n",
    "    n = len(coors)\n",
    "    np_input = list()\n",
    "    for i in range(n - 1, -1, -1):\n",
    "        np_input.append(P_record_given_coor(tower_records[i], coors[i], towers_info)[idx])\n",
    "        \n",
    "    for i in range(n - 1, 0, -1):\n",
    "        np_input.append(P_coor_given_prevCoor(coors[i], coors[i - 1])[idx])\n",
    "    \n",
    "    np_input.append(P_coor0(coors[0]))\n",
    "    return - np.sum(np.log(np_input))\n",
    "      \n",
    "\n",
    "def estimate(time, interval=None, learning_rate=5):\n",
    "    if not interval:\n",
    "        interval = 0\n",
    "    \n",
    "    coors_estimations = (coor0_estimations, coor1_estimations, coor2_estimations, coor3_estimations)\n",
    "    prev_coors = (estimations[-1] for estimations in coors_estimations[:time])\n",
    "\n",
    "    mean_x, mean_y = get_mean_towers_coor(time, tower_records)\n",
    "    coor = mean_x - interval, mean_y - interval\n",
    "\n",
    "    coors = list(prev_coors) + list((coor,))\n",
    "    best_coors = gradiant_descent(estimation_func, coors, learning_rate)\n",
    "    \n",
    "    assert time == len(best_coors) - 1\n",
    "    return best_coors\n",
    "\n",
    "def print_estimation(coors):\n",
    "    for i, coor in enumerate(coors):\n",
    "        print(\n",
    "            f'real_coor{i}: {real_coor(i)} - Estimated_coor{i}: {coor[0], coor[1]}',\n",
    "            f'Estimation_error: {dist((coor[0], coor[1]), real_coor(i))}',\n",
    "            sep='\\n'\n",
    "        )\n",
    "        print()"
   ]
  },
  {
   "cell_type": "code",
   "execution_count": null,
   "metadata": {},
   "outputs": [
    {
     "name": "stdout",
     "output_type": "stream",
     "text": [
      "real_coor0: (1087, -57) - Estimated_coor0: (1091.1362449867283, -48.42441165955036)\n",
      "Estimation_error: 10\n",
      "\n"
     ]
    }
   ],
   "source": [
    "best_coors = estimate(time=0, interval=0, learning_rate=0.85)\n",
    "\n",
    "coor0_estimations.append(best_coors[0])\n",
    "\n",
    "print_estimation(best_coors)"
   ]
  },
  {
   "cell_type": "markdown",
   "metadata": {},
   "source": [
    "#### Estimating coordinates_0 and coordinates_1 from P(coor_0), record_0, and record_1<br>(4 points)"
   ]
  },
  {
   "cell_type": "code",
   "execution_count": null,
   "metadata": {
    "collectable": true
   },
   "outputs": [],
   "source": [
    "# extra space"
   ]
  },
  {
   "cell_type": "code",
   "execution_count": null,
   "metadata": {
    "collectable": true
   },
   "outputs": [],
   "source": [
    "# extra space"
   ]
  },
  {
   "cell_type": "code",
   "execution_count": null,
   "metadata": {
    "collectable": true
   },
   "outputs": [],
   "source": [
    "# argmax P(coor_0 | record_0, record_1)\n",
    "# argmax P(coor_1 | coor_0, record_0, record_1)\n",
    "\n",
    "\n",
    "max_Px, max_Py = 0, 0\n",
    "interval, step = 20, 5\n",
    "\n",
    "best_x0, best_y0 = None, None\n",
    "best_x1, best_y1 = None, None\n",
    "\n",
    "towers_mean_x1, towers_mean_y1 = get_mean_towers_coor(1, tower_records)\n",
    "\n",
    "for x0 in range(int(coor0_estimations[-1][0] - interval), int(coor0_estimations[-1][0] + interval), step):\n",
    "    for y0 in range(int(coor0_estimations[-1][1] - interval), int(coor0_estimations[-1][1] + interval), step):\n",
    "        \n",
    "         for x1 in range(int(towers_mean_x1 - interval), int(towers_mean_x1 + interval), step):\n",
    "            for y1 in range(int(towers_mean_y1 - interval), int(towers_mean_y1 + interval), step):\n",
    "                    \n",
    "                coor0 = (x0, y0)\n",
    "                coor1 = (x1, y1)\n",
    "\n",
    "                rec0 = tower_records[0]\n",
    "                rec1 = tower_records[1]\n",
    "                \n",
    "                P_rec1_given_x1, P_rec1_given_y1 = P_record_given_coor(rec1, coor1, towers_info)\n",
    "                P_rec0_given_x0, P_rec0_given_y0 = P_record_given_coor(rec1, coor0, towers_info)\n",
    "                P_x1_given_x0, P_y1_given_y0 = P_coor_given_prevCoor(coor1, coor0)\n",
    "                P_c0 = P_coor0(coor0)\n",
    "    \n",
    "                Px = P_rec1_given_x1 * P_rec0_given_x0 * P_x1_given_x0 * P_c0\n",
    "                Py = P_rec1_given_y1 * P_rec0_given_y0 * P_y1_given_y0 * P_c0\n",
    "\n",
    "                if Px > max_Px:\n",
    "                    best_x0 = x0\n",
    "                    best_x1 = x1\n",
    "                    max_Px = Px\n",
    "\n",
    "                if Py > max_Py:\n",
    "                    best_y0 = y0\n",
    "                    best_y1 = y1\n",
    "                    max_Py = Py\n",
    "                    \n",
    "            \n",
    "coor0_estimations.append((best_x0, best_y0))\n",
    "coor1_estimations.append((best_x1, best_y1))"
   ]
  },
  {
   "cell_type": "code",
   "execution_count": null,
   "metadata": {
    "collectable": true
   },
   "outputs": [],
   "source": [
    "# extra space"
   ]
  },
  {
   "cell_type": "code",
   "execution_count": null,
   "metadata": {},
   "outputs": [
    {
     "name": "stdout",
     "output_type": "stream",
     "text": [
      "real_coor0: (1087, -57) - Estimated_coor0: (1091.4993486456258, -48.276807505299026)\n",
      "Estimation_error: 10\n",
      "\n",
      "real_coor1: (1045, 72) - Estimated_coor1: (980.0026958054827, 69.56139172884494)\n",
      "Estimation_error: 65\n",
      "\n"
     ]
    }
   ],
   "source": [
    "\"\"\"\n",
    "argmax P(rec1|coor1) * P(rec0|coor0) * P(coor1 | coor0) * P(coor0)\n",
    "\"\"\"\n",
    "\n",
    "best_coors = estimate(time=1, interval=0, learning_rate=1.9)\n",
    "\n",
    "coor0_estimations.append(best_coors[0])\n",
    "coor1_estimations.append(best_coors[1])\n",
    "\n",
    "print_estimation(best_coors)"
   ]
  },
  {
   "cell_type": "code",
   "execution_count": null,
   "metadata": {
    "collectable": true
   },
   "outputs": [],
   "source": [
    "# extra space"
   ]
  },
  {
   "cell_type": "markdown",
   "metadata": {},
   "source": [
    "#### Estimating coordinates_0, coordinates_1 and coordinates_2 from P(coor_0), record_0, record_1, and record_2 <br> (4 points)"
   ]
  },
  {
   "cell_type": "code",
   "execution_count": null,
   "metadata": {},
   "outputs": [
    {
     "name": "stdout",
     "output_type": "stream",
     "text": [
      "real_coor0: (1087, -57) - Estimated_coor0: (1091.4993562469429, -48.27680441531354)\n",
      "Estimation_error: 10\n",
      "\n",
      "real_coor1: (1045, 72) - Estimated_coor1: (983.3359276544292, 71.09642483818386)\n",
      "Estimation_error: 62\n",
      "\n",
      "real_coor2: (967, 393) - Estimated_coor2: (980.1643988637811, 392.1114323198982)\n",
      "Estimation_error: 13\n",
      "\n"
     ]
    }
   ],
   "source": [
    "\"\"\"\n",
    "argmax P(rec2|coor2) * P(rec1|coor1) * P(rec0|coor0) * \n",
    "P(coor2|coor1) * P(coor1 | coor0) * P(coor0)\n",
    "\"\"\"\n",
    "\n",
    "best_coors = estimate(time=2, interval=0, learning_rate=1.7)\n",
    "\n",
    "coor0_estimations.append(best_coors[0])\n",
    "coor1_estimations.append(best_coors[1])\n",
    "coor2_estimations.append(best_coors[2])\n",
    "\n",
    "print_estimation(best_coors)"
   ]
  },
  {
   "cell_type": "code",
   "execution_count": null,
   "metadata": {
    "collectable": true
   },
   "outputs": [],
   "source": [
    "# extra space"
   ]
  },
  {
   "cell_type": "code",
   "execution_count": null,
   "metadata": {
    "collectable": true
   },
   "outputs": [],
   "source": [
    "# extra space"
   ]
  },
  {
   "cell_type": "markdown",
   "metadata": {},
   "source": [
    "#### Estimating coordinates_0, coordinates_1, coordinates_2, and coordinates_3 from  P(coor_0), record_0, record_1, record_2, and record_3 <br> (4 points)"
   ]
  },
  {
   "cell_type": "code",
   "execution_count": null,
   "metadata": {},
   "outputs": [
    {
     "name": "stdout",
     "output_type": "stream",
     "text": [
      "real_coor0: (1087, -57) - Estimated_coor0: (1091.4993562474388, -48.27680441510933)\n",
      "Estimation_error: 10\n",
      "\n",
      "real_coor1: (1045, 72) - Estimated_coor1: (982.7799315061205, 71.76139666432927)\n",
      "Estimation_error: 62\n",
      "\n",
      "real_coor2: (967, 393) - Estimated_coor2: (972.6318165565809, 389.7256170226105)\n",
      "Estimation_error: 7\n",
      "\n",
      "real_coor3: (314, 1220) - Estimated_coor3: (305.63018364392235, 1193.4234098812467)\n",
      "Estimation_error: 28\n",
      "\n"
     ]
    }
   ],
   "source": [
    "\"\"\"\n",
    "argmax P(rec3|coor3) * P(rec2|coor2) * P(rec1|coor1)* P(rec0|coor0) *\n",
    "P(coor3|coor2) * P(coor2|coor1) * P(coor1 | coor0) * P(coor0)\n",
    "\"\"\"\n",
    "\n",
    "best_coors = estimate(time=3, interval=0, learning_rate=3)\n",
    "\n",
    "coor0_estimations.append(best_coors[0])\n",
    "coor1_estimations.append(best_coors[1])\n",
    "coor2_estimations.append(best_coors[2])\n",
    "coor3_estimations.append(best_coors[3])\n",
    "\n",
    "print_estimation(best_coors)"
   ]
  },
  {
   "cell_type": "code",
   "execution_count": null,
   "metadata": {
    "collectable": true
   },
   "outputs": [],
   "source": [
    "# extra space"
   ]
  },
  {
   "cell_type": "code",
   "execution_count": null,
   "metadata": {
    "collectable": true
   },
   "outputs": [],
   "source": [
    "# extra space"
   ]
  },
  {
   "cell_type": "markdown",
   "metadata": {},
   "source": [
    "As you know from the theoretical aspect, and you can see from your results, the errors of estimations decrease when you use more records and conditional probabilities."
   ]
  }
 ],
 "metadata": {
  "interpreter": {
   "hash": "f336af7d54ba0f0c1daaf2256eb85f31e983e88153daf7a27ef3ea6c724faba4"
  },
  "kernelspec": {
   "display_name": "Python 3",
   "language": "python",
   "name": "python3"
  },
  "language_info": {
   "codemirror_mode": {
    "name": "ipython",
    "version": 3
   },
   "file_extension": ".py",
   "mimetype": "text/x-python",
   "name": "python",
   "nbconvert_exporter": "python",
   "pygments_lexer": "ipython3",
   "version": "3.8.8"
  }
 },
 "nbformat": 4,
 "nbformat_minor": 4
}
